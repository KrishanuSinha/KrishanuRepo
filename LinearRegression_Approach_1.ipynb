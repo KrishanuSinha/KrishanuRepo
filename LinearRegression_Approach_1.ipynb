{
 "cells": [
  {
   "cell_type": "code",
   "execution_count": 16,
   "metadata": {},
   "outputs": [],
   "source": [
    "#Importing all necessary packages\n",
    "from sklearn.cluster import KMeans\n",
    "from sklearn.decomposition import PCA\n",
    "from pandas import read_excel, merge\n",
    "from IPython.core.display import HTML\n",
    "css_file = 'style.css'\n",
    "from numpy import nan\n",
    "import sklearn\n",
    "#import plotly.graph_objs as go\n",
    "#from plotly.offline import init_notebook_mode, iplot\n",
    "#init_notebook_mode()\n",
    "import pandas as pd\n",
    "import numpy as np\n",
    "import matplotlib.pyplot as plt\n",
    "import matplotlib.cm as cm\n",
    "import seaborn as sn\n",
    "from scipy import stats\n",
    "from sklearn.cluster import KMeans\n",
    "import matplotlib.pyplot as plt\n",
    "import seaborn as sns\n",
    "from sklearn.decomposition import PCA\n",
    "import pylab as pl\n",
    "import matplotlib.patches as mpatches\n",
    "%matplotlib inline\n",
    "from sklearn.preprocessing import StandardScaler"
   ]
  },
  {
   "cell_type": "code",
   "execution_count": 17,
   "metadata": {},
   "outputs": [
    {
     "data": {
      "text/html": [
       "<div>\n",
       "<style scoped>\n",
       "    .dataframe tbody tr th:only-of-type {\n",
       "        vertical-align: middle;\n",
       "    }\n",
       "\n",
       "    .dataframe tbody tr th {\n",
       "        vertical-align: top;\n",
       "    }\n",
       "\n",
       "    .dataframe thead th {\n",
       "        text-align: right;\n",
       "    }\n",
       "</style>\n",
       "<table border=\"1\" class=\"dataframe\">\n",
       "  <thead>\n",
       "    <tr style=\"text-align: right;\">\n",
       "      <th></th>\n",
       "      <th>HCM2</th>\n",
       "      <th>PREDDEG</th>\n",
       "      <th>HIGHDEG</th>\n",
       "      <th>CONTROL</th>\n",
       "      <th>LOCALE</th>\n",
       "      <th>HBCU</th>\n",
       "      <th>PBI</th>\n",
       "      <th>ANNHI</th>\n",
       "      <th>TRIBAL</th>\n",
       "      <th>AANAPII</th>\n",
       "      <th>...</th>\n",
       "      <th>NPT43_PRIV</th>\n",
       "      <th>NPT44_PRIV</th>\n",
       "      <th>NPT45_PRIV</th>\n",
       "      <th>PCTPELL</th>\n",
       "      <th>RET_FT4</th>\n",
       "      <th>RET_FTL4</th>\n",
       "      <th>RET_PT4</th>\n",
       "      <th>RET_PTL4</th>\n",
       "      <th>PCTFLOAN</th>\n",
       "      <th>UG25ABV</th>\n",
       "    </tr>\n",
       "  </thead>\n",
       "  <tbody>\n",
       "    <tr>\n",
       "      <th>0</th>\n",
       "      <td>0</td>\n",
       "      <td>3</td>\n",
       "      <td>3</td>\n",
       "      <td>2</td>\n",
       "      <td>12.0</td>\n",
       "      <td>0.0</td>\n",
       "      <td>0.0</td>\n",
       "      <td>0.0</td>\n",
       "      <td>0.0</td>\n",
       "      <td>0.0</td>\n",
       "      <td>...</td>\n",
       "      <td>20676.000000</td>\n",
       "      <td>21980.000000</td>\n",
       "      <td>24681.0</td>\n",
       "      <td>0.1992</td>\n",
       "      <td>0.8608</td>\n",
       "      <td>0.54012</td>\n",
       "      <td>0.461533</td>\n",
       "      <td>0.27298</td>\n",
       "      <td>0.4633</td>\n",
       "      <td>0.0141</td>\n",
       "    </tr>\n",
       "    <tr>\n",
       "      <th>1</th>\n",
       "      <td>0</td>\n",
       "      <td>2</td>\n",
       "      <td>2</td>\n",
       "      <td>1</td>\n",
       "      <td>41.0</td>\n",
       "      <td>0.0</td>\n",
       "      <td>1.0</td>\n",
       "      <td>0.0</td>\n",
       "      <td>0.0</td>\n",
       "      <td>0.0</td>\n",
       "      <td>...</td>\n",
       "      <td>21999.500000</td>\n",
       "      <td>24233.000000</td>\n",
       "      <td>24231.0</td>\n",
       "      <td>0.6050</td>\n",
       "      <td>0.6538</td>\n",
       "      <td>0.54440</td>\n",
       "      <td>0.230767</td>\n",
       "      <td>0.20630</td>\n",
       "      <td>0.3058</td>\n",
       "      <td>0.3604</td>\n",
       "    </tr>\n",
       "    <tr>\n",
       "      <th>2</th>\n",
       "      <td>0</td>\n",
       "      <td>2</td>\n",
       "      <td>3</td>\n",
       "      <td>2</td>\n",
       "      <td>32.0</td>\n",
       "      <td>1.0</td>\n",
       "      <td>0.0</td>\n",
       "      <td>0.0</td>\n",
       "      <td>0.0</td>\n",
       "      <td>0.0</td>\n",
       "      <td>...</td>\n",
       "      <td>23323.000000</td>\n",
       "      <td>26486.000000</td>\n",
       "      <td>23781.0</td>\n",
       "      <td>0.9048</td>\n",
       "      <td>0.4468</td>\n",
       "      <td>0.54860</td>\n",
       "      <td>0.000000</td>\n",
       "      <td>0.25940</td>\n",
       "      <td>0.9249</td>\n",
       "      <td>0.1294</td>\n",
       "    </tr>\n",
       "    <tr>\n",
       "      <th>3</th>\n",
       "      <td>0</td>\n",
       "      <td>3</td>\n",
       "      <td>4</td>\n",
       "      <td>3</td>\n",
       "      <td>12.0</td>\n",
       "      <td>0.0</td>\n",
       "      <td>0.0</td>\n",
       "      <td>0.0</td>\n",
       "      <td>0.0</td>\n",
       "      <td>0.0</td>\n",
       "      <td>...</td>\n",
       "      <td>23408.000000</td>\n",
       "      <td>27628.000000</td>\n",
       "      <td>23331.0</td>\n",
       "      <td>0.6922</td>\n",
       "      <td>0.4400</td>\n",
       "      <td>0.55280</td>\n",
       "      <td>0.125000</td>\n",
       "      <td>0.31250</td>\n",
       "      <td>0.7304</td>\n",
       "      <td>0.6109</td>\n",
       "    </tr>\n",
       "    <tr>\n",
       "      <th>4</th>\n",
       "      <td>0</td>\n",
       "      <td>2</td>\n",
       "      <td>2</td>\n",
       "      <td>1</td>\n",
       "      <td>32.0</td>\n",
       "      <td>0.0</td>\n",
       "      <td>0.0</td>\n",
       "      <td>0.0</td>\n",
       "      <td>0.0</td>\n",
       "      <td>0.0</td>\n",
       "      <td>...</td>\n",
       "      <td>23832.666667</td>\n",
       "      <td>26274.333333</td>\n",
       "      <td>22881.0</td>\n",
       "      <td>0.4928</td>\n",
       "      <td>0.4823</td>\n",
       "      <td>0.55700</td>\n",
       "      <td>0.250000</td>\n",
       "      <td>0.36560</td>\n",
       "      <td>0.2128</td>\n",
       "      <td>0.2896</td>\n",
       "    </tr>\n",
       "  </tbody>\n",
       "</table>\n",
       "<p>5 rows × 108 columns</p>\n",
       "</div>"
      ],
      "text/plain": [
       "   HCM2  PREDDEG  HIGHDEG  CONTROL  LOCALE  HBCU  PBI  ANNHI  TRIBAL  AANAPII  \\\n",
       "0     0        3        3        2    12.0   0.0  0.0    0.0     0.0      0.0   \n",
       "1     0        2        2        1    41.0   0.0  1.0    0.0     0.0      0.0   \n",
       "2     0        2        3        2    32.0   1.0  0.0    0.0     0.0      0.0   \n",
       "3     0        3        4        3    12.0   0.0  0.0    0.0     0.0      0.0   \n",
       "4     0        2        2        1    32.0   0.0  0.0    0.0     0.0      0.0   \n",
       "\n",
       "    ...       NPT43_PRIV    NPT44_PRIV  NPT45_PRIV  PCTPELL  RET_FT4  \\\n",
       "0   ...     20676.000000  21980.000000     24681.0   0.1992   0.8608   \n",
       "1   ...     21999.500000  24233.000000     24231.0   0.6050   0.6538   \n",
       "2   ...     23323.000000  26486.000000     23781.0   0.9048   0.4468   \n",
       "3   ...     23408.000000  27628.000000     23331.0   0.6922   0.4400   \n",
       "4   ...     23832.666667  26274.333333     22881.0   0.4928   0.4823   \n",
       "\n",
       "   RET_FTL4   RET_PT4  RET_PTL4  PCTFLOAN  UG25ABV  \n",
       "0   0.54012  0.461533   0.27298    0.4633   0.0141  \n",
       "1   0.54440  0.230767   0.20630    0.3058   0.3604  \n",
       "2   0.54860  0.000000   0.25940    0.9249   0.1294  \n",
       "3   0.55280  0.125000   0.31250    0.7304   0.6109  \n",
       "4   0.55700  0.250000   0.36560    0.2128   0.2896  \n",
       "\n",
       "[5 rows x 108 columns]"
      ]
     },
     "execution_count": 17,
     "metadata": {},
     "output_type": "execute_result"
    }
   ],
   "source": [
    "df = pd.read_csv('Final_Dataset.csv',sep=' ')\n",
    "df.head()"
   ]
  },
  {
   "cell_type": "code",
   "execution_count": 18,
   "metadata": {},
   "outputs": [],
   "source": [
    "# Compute the correlation matrix\n",
    "corr = features.corr()"
   ]
  },
  {
   "cell_type": "code",
   "execution_count": 19,
   "metadata": {},
   "outputs": [
    {
     "data": {
      "text/plain": [
       "(7583, 108)"
      ]
     },
     "execution_count": 19,
     "metadata": {},
     "output_type": "execute_result"
    }
   ],
   "source": [
    "df.shape"
   ]
  },
  {
   "cell_type": "code",
   "execution_count": 20,
   "metadata": {},
   "outputs": [],
   "source": [
    "features=df[['HCM2','SAT_AVG_ALL','UGDS','PPTUG_EF','CURROPER','NPT4_PUB','NPT4_PRIV','PCTPELL','PCTFLOAN','UG25ABV','ACTCMMID','CONTROL']]\n",
    "target=df[['RET_FT4']]"
   ]
  },
  {
   "cell_type": "code",
   "execution_count": 21,
   "metadata": {},
   "outputs": [],
   "source": [
    "# Generate a mask for the upper triangle\n",
    "mask = np.zeros_like(corr, dtype=np.bool)\n",
    "mask[np.triu_indices_from(mask)] = True"
   ]
  },
  {
   "cell_type": "code",
   "execution_count": 22,
   "metadata": {},
   "outputs": [
    {
     "data": {
      "text/plain": [
       "<matplotlib.axes._subplots.AxesSubplot at 0x11f5506b4a8>"
      ]
     },
     "execution_count": 22,
     "metadata": {},
     "output_type": "execute_result"
    },
    {
     "data": {
      "image/png": "[encoded data removed]",
      "text/plain": [
       "<matplotlib.figure.Figure at 0x11f5506bc88>"
      ]
     },
     "metadata": {},
     "output_type": "display_data"
    }
   ],
   "source": [
    "# Set up the matplotlib figure\n",
    "f, ax = plt.subplots(figsize=(11, 9))\n",
    "\n",
    "# Generate a custom diverging colormap\n",
    "cmap = sns.diverging_palette(220, 10, as_cmap=True)\n",
    "\n",
    "# Draw the heatmap with the mask and correct aspect ratio\n",
    "sns.heatmap(corr, mask=mask, cmap=cmap, vmax=.3, center=0,\n",
    "            square=True, linewidths=.5, cbar_kws={\"shrink\": .5})"
   ]
  },
  {
   "cell_type": "code",
   "execution_count": 23,
   "metadata": {},
   "outputs": [],
   "source": [
    "# Dropping PCTPELL ,ACTCMMID, CONTROL, UG25ABV\n",
    "features=df[['HCM2','SAT_AVG_ALL','UGDS','PPTUG_EF','CURROPER','NPT4_PUB','NPT4_PRIV','PCTFLOAN']]"
   ]
  },
  {
   "cell_type": "code",
   "execution_count": 24,
   "metadata": {},
   "outputs": [
    {
     "name": "stderr",
     "output_type": "stream",
     "text": [
      "C:\\Users\\User\\Anaconda3\\lib\\site-packages\\statsmodels\\compat\\pandas.py:56: FutureWarning: The pandas.core.datetools module is deprecated and will be removed in a future version. Please use the pandas.tseries module instead.\n",
      "  from pandas.core import datetools\n"
     ]
    },
    {
     "data": {
      "text/html": [
       "<table class=\"simpletable\">\n",
       "<caption>OLS Regression Results</caption>\n",
       "<tr>\n",
       "  <th>Dep. Variable:</th>         <td>RET_FT4</td>     <th>  R-squared:         </th> <td>   0.933</td> \n",
       "</tr>\n",
       "<tr>\n",
       "  <th>Model:</th>                   <td>OLS</td>       <th>  Adj. R-squared:    </th> <td>   0.933</td> \n",
       "</tr>\n",
       "<tr>\n",
       "  <th>Method:</th>             <td>Least Squares</td>  <th>  F-statistic:       </th> <td>1.322e+04</td>\n",
       "</tr>\n",
       "<tr>\n",
       "  <th>Date:</th>             <td>Wed, 30 May 2018</td> <th>  Prob (F-statistic):</th>  <td>  0.00</td>  \n",
       "</tr>\n",
       "<tr>\n",
       "  <th>Time:</th>                 <td>17:24:17</td>     <th>  Log-Likelihood:    </th> <td>  2106.7</td> \n",
       "</tr>\n",
       "<tr>\n",
       "  <th>No. Observations:</th>      <td>  7583</td>      <th>  AIC:               </th> <td>  -4197.</td> \n",
       "</tr>\n",
       "<tr>\n",
       "  <th>Df Residuals:</th>          <td>  7575</td>      <th>  BIC:               </th> <td>  -4142.</td> \n",
       "</tr>\n",
       "<tr>\n",
       "  <th>Df Model:</th>              <td>     8</td>      <th>                     </th>     <td> </td>    \n",
       "</tr>\n",
       "<tr>\n",
       "  <th>Covariance Type:</th>      <td>nonrobust</td>    <th>                     </th>     <td> </td>    \n",
       "</tr>\n",
       "</table>\n",
       "<table class=\"simpletable\">\n",
       "<tr>\n",
       "       <td></td>          <th>coef</th>     <th>std err</th>      <th>t</th>      <th>P>|t|</th>  <th>[0.025</th>    <th>0.975]</th>  \n",
       "</tr>\n",
       "<tr>\n",
       "  <th>HCM2</th>        <td>    0.0088</td> <td>    0.022</td> <td>    0.399</td> <td> 0.690</td> <td>   -0.034</td> <td>    0.052</td>\n",
       "</tr>\n",
       "<tr>\n",
       "  <th>SAT_AVG_ALL</th> <td>    0.0005</td> <td> 8.61e-06</td> <td>   52.407</td> <td> 0.000</td> <td>    0.000</td> <td>    0.000</td>\n",
       "</tr>\n",
       "<tr>\n",
       "  <th>UGDS</th>        <td> 3.593e-06</td> <td> 4.25e-07</td> <td>    8.451</td> <td> 0.000</td> <td> 2.76e-06</td> <td> 4.43e-06</td>\n",
       "</tr>\n",
       "<tr>\n",
       "  <th>PPTUG_EF</th>    <td>    0.0049</td> <td>    0.009</td> <td>    0.553</td> <td> 0.580</td> <td>   -0.012</td> <td>    0.022</td>\n",
       "</tr>\n",
       "<tr>\n",
       "  <th>CURROPER</th>    <td>    0.1171</td> <td>    0.007</td> <td>   17.847</td> <td> 0.000</td> <td>    0.104</td> <td>    0.130</td>\n",
       "</tr>\n",
       "<tr>\n",
       "  <th>NPT4_PUB</th>    <td> 5.414e-06</td> <td> 4.96e-07</td> <td>   10.921</td> <td> 0.000</td> <td> 4.44e-06</td> <td> 6.39e-06</td>\n",
       "</tr>\n",
       "<tr>\n",
       "  <th>NPT4_PRIV</th>   <td> 2.966e-06</td> <td>  3.2e-07</td> <td>    9.281</td> <td> 0.000</td> <td> 2.34e-06</td> <td> 3.59e-06</td>\n",
       "</tr>\n",
       "<tr>\n",
       "  <th>PCTFLOAN</th>    <td>   -0.0565</td> <td>    0.008</td> <td>   -6.842</td> <td> 0.000</td> <td>   -0.073</td> <td>   -0.040</td>\n",
       "</tr>\n",
       "</table>\n",
       "<table class=\"simpletable\">\n",
       "<tr>\n",
       "  <th>Omnibus:</th>       <td>1448.352</td> <th>  Durbin-Watson:     </th> <td>   0.336</td>\n",
       "</tr>\n",
       "<tr>\n",
       "  <th>Prob(Omnibus):</th>  <td> 0.000</td>  <th>  Jarque-Bera (JB):  </th> <td>3154.107</td>\n",
       "</tr>\n",
       "<tr>\n",
       "  <th>Skew:</th>           <td>-1.107</td>  <th>  Prob(JB):          </th> <td>    0.00</td>\n",
       "</tr>\n",
       "<tr>\n",
       "  <th>Kurtosis:</th>       <td> 5.253</td>  <th>  Cond. No.          </th> <td>2.32e+05</td>\n",
       "</tr>\n",
       "</table>"
      ],
      "text/plain": [
       "<class 'statsmodels.iolib.summary.Summary'>\n",
       "\"\"\"\n",
       "                            OLS Regression Results                            \n",
       "==============================================================================\n",
       "Dep. Variable:                RET_FT4   R-squared:                       0.933\n",
       "Model:                            OLS   Adj. R-squared:                  0.933\n",
       "Method:                 Least Squares   F-statistic:                 1.322e+04\n",
       "Date:                Wed, 30 May 2018   Prob (F-statistic):               0.00\n",
       "Time:                        17:24:17   Log-Likelihood:                 2106.7\n",
       "No. Observations:                7583   AIC:                            -4197.\n",
       "Df Residuals:                    7575   BIC:                            -4142.\n",
       "Df Model:                           8                                         \n",
       "Covariance Type:            nonrobust                                         \n",
       "===============================================================================\n",
       "                  coef    std err          t      P>|t|      [0.025      0.975]\n",
       "-------------------------------------------------------------------------------\n",
       "HCM2            0.0088      0.022      0.399      0.690      -0.034       0.052\n",
       "SAT_AVG_ALL     0.0005   8.61e-06     52.407      0.000       0.000       0.000\n",
       "UGDS         3.593e-06   4.25e-07      8.451      0.000    2.76e-06    4.43e-06\n",
       "PPTUG_EF        0.0049      0.009      0.553      0.580      -0.012       0.022\n",
       "CURROPER        0.1171      0.007     17.847      0.000       0.104       0.130\n",
       "NPT4_PUB     5.414e-06   4.96e-07     10.921      0.000    4.44e-06    6.39e-06\n",
       "NPT4_PRIV    2.966e-06    3.2e-07      9.281      0.000    2.34e-06    3.59e-06\n",
       "PCTFLOAN       -0.0565      0.008     -6.842      0.000      -0.073      -0.040\n",
       "==============================================================================\n",
       "Omnibus:                     1448.352   Durbin-Watson:                   0.336\n",
       "Prob(Omnibus):                  0.000   Jarque-Bera (JB):             3154.107\n",
       "Skew:                          -1.107   Prob(JB):                         0.00\n",
       "Kurtosis:                       5.253   Cond. No.                     2.32e+05\n",
       "==============================================================================\n",
       "\n",
       "Warnings:\n",
       "[1] Standard Errors assume that the covariance matrix of the errors is correctly specified.\n",
       "[2] The condition number is large, 2.32e+05. This might indicate that there are\n",
       "strong multicollinearity or other numerical problems.\n",
       "\"\"\""
      ]
     },
     "execution_count": 24,
     "metadata": {},
     "output_type": "execute_result"
    }
   ],
   "source": [
    "## Without a constant\n",
    "import statsmodels.api as sm\n",
    "\n",
    "# Note the difference in argument order\n",
    "model = sm.OLS(target, features).fit()\n",
    "predictions = model.predict(features) # make the predictions by the model\n",
    "\n",
    "# Print out the statistics\n",
    "model.summary()"
   ]
  },
  {
   "cell_type": "markdown",
   "metadata": {},
   "source": [
    "### Trying other approaches for Linear Regression"
   ]
  },
  {
   "cell_type": "code",
   "execution_count": 30,
   "metadata": {},
   "outputs": [],
   "source": [
    "z=df[['RET_FT4']].mean()\n",
    "a=pd.DataFrame(z,dtype=float)\n",
    "c=a.iloc[0,0]"
   ]
  },
  {
   "cell_type": "code",
   "execution_count": 31,
   "metadata": {},
   "outputs": [],
   "source": [
    "df[['RET_FT4']]=np.nan\n",
    "df[['RET_FT4']]=df[['RET_FT4']].fillna(c)\n",
    "Dummy_Predictions=df[['RET_FT4']]"
   ]
  },
  {
   "cell_type": "code",
   "execution_count": 32,
   "metadata": {},
   "outputs": [
    {
     "data": {
      "text/html": [
       "<table class=\"simpletable\">\n",
       "<caption>OLS Regression Results</caption>\n",
       "<tr>\n",
       "  <th>Dep. Variable:</th>         <td>RET_FT4</td>     <th>  R-squared:         </th>  <td>   0.992</td> \n",
       "</tr>\n",
       "<tr>\n",
       "  <th>Model:</th>                   <td>OLS</td>       <th>  Adj. R-squared:    </th>  <td>   0.992</td> \n",
       "</tr>\n",
       "<tr>\n",
       "  <th>Method:</th>             <td>Least Squares</td>  <th>  F-statistic:       </th>  <td>1.217e+05</td>\n",
       "</tr>\n",
       "<tr>\n",
       "  <th>Date:</th>             <td>Wed, 30 May 2018</td> <th>  Prob (F-statistic):</th>   <td>  0.00</td>  \n",
       "</tr>\n",
       "<tr>\n",
       "  <th>Time:</th>                 <td>18:03:52</td>     <th>  Log-Likelihood:    </th>  <td>  10565.</td> \n",
       "</tr>\n",
       "<tr>\n",
       "  <th>No. Observations:</th>      <td>  7583</td>      <th>  AIC:               </th> <td>-2.111e+04</td>\n",
       "</tr>\n",
       "<tr>\n",
       "  <th>Df Residuals:</th>          <td>  7575</td>      <th>  BIC:               </th> <td>-2.106e+04</td>\n",
       "</tr>\n",
       "<tr>\n",
       "  <th>Df Model:</th>              <td>     8</td>      <th>                     </th>      <td> </td>    \n",
       "</tr>\n",
       "<tr>\n",
       "  <th>Covariance Type:</th>      <td>nonrobust</td>    <th>                     </th>      <td> </td>    \n",
       "</tr>\n",
       "</table>\n",
       "<table class=\"simpletable\">\n",
       "<tr>\n",
       "       <td></td>          <th>coef</th>     <th>std err</th>      <th>t</th>      <th>P>|t|</th>  <th>[0.025</th>    <th>0.975]</th>  \n",
       "</tr>\n",
       "<tr>\n",
       "  <th>HCM2</th>        <td>    0.0029</td> <td>    0.007</td> <td>    0.402</td> <td> 0.688</td> <td>   -0.011</td> <td>    0.017</td>\n",
       "</tr>\n",
       "<tr>\n",
       "  <th>SAT_AVG_ALL</th> <td>    0.0005</td> <td> 2.82e-06</td> <td>  176.689</td> <td> 0.000</td> <td>    0.000</td> <td>    0.001</td>\n",
       "</tr>\n",
       "<tr>\n",
       "  <th>UGDS</th>        <td>-6.493e-07</td> <td> 1.39e-07</td> <td>   -4.659</td> <td> 0.000</td> <td>-9.23e-07</td> <td>-3.76e-07</td>\n",
       "</tr>\n",
       "<tr>\n",
       "  <th>PPTUG_EF</th>    <td>    0.0495</td> <td>    0.003</td> <td>   17.028</td> <td> 0.000</td> <td>    0.044</td> <td>    0.055</td>\n",
       "</tr>\n",
       "<tr>\n",
       "  <th>CURROPER</th>    <td>    0.0643</td> <td>    0.002</td> <td>   29.884</td> <td> 0.000</td> <td>    0.060</td> <td>    0.069</td>\n",
       "</tr>\n",
       "<tr>\n",
       "  <th>NPT4_PUB</th>    <td> 1.917e-06</td> <td> 1.62e-07</td> <td>   11.797</td> <td> 0.000</td> <td>  1.6e-06</td> <td> 2.24e-06</td>\n",
       "</tr>\n",
       "<tr>\n",
       "  <th>NPT4_PRIV</th>   <td> 1.252e-06</td> <td> 1.05e-07</td> <td>   11.949</td> <td> 0.000</td> <td> 1.05e-06</td> <td> 1.46e-06</td>\n",
       "</tr>\n",
       "<tr>\n",
       "  <th>PCTFLOAN</th>    <td>    0.0571</td> <td>    0.003</td> <td>   21.101</td> <td> 0.000</td> <td>    0.052</td> <td>    0.062</td>\n",
       "</tr>\n",
       "</table>\n",
       "<table class=\"simpletable\">\n",
       "<tr>\n",
       "  <th>Omnibus:</th>       <td>273.813</td> <th>  Durbin-Watson:     </th> <td>   0.484</td>\n",
       "</tr>\n",
       "<tr>\n",
       "  <th>Prob(Omnibus):</th> <td> 0.000</td>  <th>  Jarque-Bera (JB):  </th> <td> 332.153</td>\n",
       "</tr>\n",
       "<tr>\n",
       "  <th>Skew:</th>          <td>-0.421</td>  <th>  Prob(JB):          </th> <td>7.48e-73</td>\n",
       "</tr>\n",
       "<tr>\n",
       "  <th>Kurtosis:</th>      <td> 3.586</td>  <th>  Cond. No.          </th> <td>2.32e+05</td>\n",
       "</tr>\n",
       "</table>"
      ],
      "text/plain": [
       "<class 'statsmodels.iolib.summary.Summary'>\n",
       "\"\"\"\n",
       "                            OLS Regression Results                            \n",
       "==============================================================================\n",
       "Dep. Variable:                RET_FT4   R-squared:                       0.992\n",
       "Model:                            OLS   Adj. R-squared:                  0.992\n",
       "Method:                 Least Squares   F-statistic:                 1.217e+05\n",
       "Date:                Wed, 30 May 2018   Prob (F-statistic):               0.00\n",
       "Time:                        18:03:52   Log-Likelihood:                 10565.\n",
       "No. Observations:                7583   AIC:                        -2.111e+04\n",
       "Df Residuals:                    7575   BIC:                        -2.106e+04\n",
       "Df Model:                           8                                         \n",
       "Covariance Type:            nonrobust                                         \n",
       "===============================================================================\n",
       "                  coef    std err          t      P>|t|      [0.025      0.975]\n",
       "-------------------------------------------------------------------------------\n",
       "HCM2            0.0029      0.007      0.402      0.688      -0.011       0.017\n",
       "SAT_AVG_ALL     0.0005   2.82e-06    176.689      0.000       0.000       0.001\n",
       "UGDS        -6.493e-07   1.39e-07     -4.659      0.000   -9.23e-07   -3.76e-07\n",
       "PPTUG_EF        0.0495      0.003     17.028      0.000       0.044       0.055\n",
       "CURROPER        0.0643      0.002     29.884      0.000       0.060       0.069\n",
       "NPT4_PUB     1.917e-06   1.62e-07     11.797      0.000     1.6e-06    2.24e-06\n",
       "NPT4_PRIV    1.252e-06   1.05e-07     11.949      0.000    1.05e-06    1.46e-06\n",
       "PCTFLOAN        0.0571      0.003     21.101      0.000       0.052       0.062\n",
       "==============================================================================\n",
       "Omnibus:                      273.813   Durbin-Watson:                   0.484\n",
       "Prob(Omnibus):                  0.000   Jarque-Bera (JB):              332.153\n",
       "Skew:                          -0.421   Prob(JB):                     7.48e-73\n",
       "Kurtosis:                       3.586   Cond. No.                     2.32e+05\n",
       "==============================================================================\n",
       "\n",
       "Warnings:\n",
       "[1] Standard Errors assume that the covariance matrix of the errors is correctly specified.\n",
       "[2] The condition number is large, 2.32e+05. This might indicate that there are\n",
       "strong multicollinearity or other numerical problems.\n",
       "\"\"\""
      ]
     },
     "execution_count": 32,
     "metadata": {},
     "output_type": "execute_result"
    }
   ],
   "source": [
    "## Without a constant\n",
    "import statsmodels.api as sm\n",
    "\n",
    "# Note the difference in argument order\n",
    "model = sm.OLS(Dummy_Predictions, features).fit()\n",
    "predictions = model.predict(features) # make the predictions by the model\n",
    "\n",
    "# Print out the statistics\n",
    "model.summary()"
   ]
  },
  {
   "cell_type": "code",
   "execution_count": null,
   "metadata": {},
   "outputs": [],
   "source": []
  },
  {
   "cell_type": "code",
   "execution_count": 36,
   "metadata": {},
   "outputs": [],
   "source": [
    "x = features.loc[:, :].values\n",
    "\n",
    "# Separating out the target\n",
    "y = target.loc[:,:].values\n",
    "\n",
    "# Standardizing the features\n",
    "x = StandardScaler().fit_transform(x)"
   ]
  },
  {
   "cell_type": "code",
   "execution_count": 37,
   "metadata": {},
   "outputs": [],
   "source": [
    "from sklearn.decomposition import PCA\n",
    "\n",
    "pca = PCA(n_components=1)\n",
    "principalComponents = pca.fit_transform(x)\n",
    "principalDf = pd.DataFrame(data = principalComponents\n",
    "             , columns = ['principal component 1'])"
   ]
  },
  {
   "cell_type": "code",
   "execution_count": 38,
   "metadata": {},
   "outputs": [],
   "source": [
    "finalDf = pd.concat([principalDf, target], axis = 1)"
   ]
  },
  {
   "cell_type": "code",
   "execution_count": 48,
   "metadata": {},
   "outputs": [],
   "source": [
    "import pandas as pd\n",
    "from sklearn import linear_model\n",
    "from sklearn.model_selection import train_test_split\n",
    "from matplotlib import pyplot as plt\n",
    "# Import LinearRegression\n",
    "from sklearn.linear_model import LinearRegression"
   ]
  },
  {
   "cell_type": "code",
   "execution_count": 49,
   "metadata": {},
   "outputs": [],
   "source": [
    "# Create training and test sets\n",
    "\n",
    "X_train, X_test, y_train, y_test = train_test_split(x, y, test_size = 0.3, random_state=42)"
   ]
  },
  {
   "cell_type": "code",
   "execution_count": 50,
   "metadata": {},
   "outputs": [],
   "source": [
    "# Create the regressor: reg_all\n",
    "\n",
    "reg_all = LinearRegression()"
   ]
  },
  {
   "cell_type": "code",
   "execution_count": 51,
   "metadata": {},
   "outputs": [
    {
     "data": {
      "text/plain": [
       "LinearRegression(copy_X=True, fit_intercept=True, n_jobs=1, normalize=False)"
      ]
     },
     "execution_count": 51,
     "metadata": {},
     "output_type": "execute_result"
    }
   ],
   "source": [
    "# Fit the regressor to the training data\n",
    "\n",
    "reg_all.fit(X_train, y_train)"
   ]
  },
  {
   "cell_type": "code",
   "execution_count": 52,
   "metadata": {},
   "outputs": [
    {
     "name": "stdout",
     "output_type": "stream",
     "text": [
      "0.08495853206257109\n"
     ]
    }
   ],
   "source": [
    "print(reg_all.score(X_train, y_train))"
   ]
  },
  {
   "cell_type": "code",
   "execution_count": 16,
   "metadata": {},
   "outputs": [
    {
     "name": "stdout",
     "output_type": "stream",
     "text": [
      "R^2: 0.14344831952866588\n",
      "Root Mean Squared Error: 0.17576847970333323\n"
     ]
    }
   ],
   "source": [
    "# Predict on the test data: y_pred\n",
    "\n",
    "y_pred = reg_all.predict(X_test)\n",
    "\n",
    " \n",
    "\n",
    "# Compute and print R^2 and RMSE\n",
    "\n",
    "print(\"R^2: {}\".format(reg_all.score(X_test, y_test)))\n",
    "\n",
    "rmse = np.sqrt(mean_squared_error(y_test, y_pred))\n",
    "\n",
    "print(\"Root Mean Squared Error: {}\".format(rmse))"
   ]
  },
  {
   "cell_type": "code",
   "execution_count": 17,
   "metadata": {},
   "outputs": [
    {
     "ename": "ValueError",
     "evalue": "x and y must be the same size",
     "output_type": "error",
     "traceback": [
      "\u001b[1;31m---------------------------------------------------------------------------\u001b[0m",
      "\u001b[1;31mValueError\u001b[0m                                Traceback (most recent call last)",
      "\u001b[1;32m<ipython-input-17-55c4b8ef24f4>\u001b[0m in \u001b[0;36m<module>\u001b[1;34m()\u001b[0m\n\u001b[0;32m      1\u001b[0m \u001b[1;31m# Plot outputs\u001b[0m\u001b[1;33m\u001b[0m\u001b[1;33m\u001b[0m\u001b[0m\n\u001b[1;32m----> 2\u001b[1;33m \u001b[0mplt\u001b[0m\u001b[1;33m.\u001b[0m\u001b[0mscatter\u001b[0m\u001b[1;33m(\u001b[0m\u001b[0mX_test\u001b[0m\u001b[1;33m,\u001b[0m \u001b[0my_test\u001b[0m\u001b[1;33m,\u001b[0m  \u001b[0mcolor\u001b[0m\u001b[1;33m=\u001b[0m\u001b[1;34m'black'\u001b[0m\u001b[1;33m)\u001b[0m\u001b[1;33m\u001b[0m\u001b[0m\n\u001b[0m\u001b[0;32m      3\u001b[0m \u001b[0mplt\u001b[0m\u001b[1;33m.\u001b[0m\u001b[0mplot\u001b[0m\u001b[1;33m(\u001b[0m\u001b[0mX_test\u001b[0m\u001b[1;33m,\u001b[0m \u001b[0my_pred\u001b[0m\u001b[1;33m,\u001b[0m \u001b[0mcolor\u001b[0m\u001b[1;33m=\u001b[0m\u001b[1;34m'blue'\u001b[0m\u001b[1;33m,\u001b[0m \u001b[0mlinewidth\u001b[0m\u001b[1;33m=\u001b[0m\u001b[1;36m3\u001b[0m\u001b[1;33m)\u001b[0m\u001b[1;33m\u001b[0m\u001b[0m\n\u001b[0;32m      4\u001b[0m \u001b[1;33m\u001b[0m\u001b[0m\n\u001b[0;32m      5\u001b[0m \u001b[1;31m#plt.xticks(())\u001b[0m\u001b[1;33m\u001b[0m\u001b[1;33m\u001b[0m\u001b[0m\n",
      "\u001b[1;32m~\\Anaconda3\\lib\\site-packages\\matplotlib\\pyplot.py\u001b[0m in \u001b[0;36mscatter\u001b[1;34m(x, y, s, c, marker, cmap, norm, vmin, vmax, alpha, linewidths, verts, edgecolors, hold, data, **kwargs)\u001b[0m\n\u001b[0;32m   3376\u001b[0m                          \u001b[0mvmin\u001b[0m\u001b[1;33m=\u001b[0m\u001b[0mvmin\u001b[0m\u001b[1;33m,\u001b[0m \u001b[0mvmax\u001b[0m\u001b[1;33m=\u001b[0m\u001b[0mvmax\u001b[0m\u001b[1;33m,\u001b[0m \u001b[0malpha\u001b[0m\u001b[1;33m=\u001b[0m\u001b[0malpha\u001b[0m\u001b[1;33m,\u001b[0m\u001b[1;33m\u001b[0m\u001b[0m\n\u001b[0;32m   3377\u001b[0m                          \u001b[0mlinewidths\u001b[0m\u001b[1;33m=\u001b[0m\u001b[0mlinewidths\u001b[0m\u001b[1;33m,\u001b[0m \u001b[0mverts\u001b[0m\u001b[1;33m=\u001b[0m\u001b[0mverts\u001b[0m\u001b[1;33m,\u001b[0m\u001b[1;33m\u001b[0m\u001b[0m\n\u001b[1;32m-> 3378\u001b[1;33m                          edgecolors=edgecolors, data=data, **kwargs)\n\u001b[0m\u001b[0;32m   3379\u001b[0m     \u001b[1;32mfinally\u001b[0m\u001b[1;33m:\u001b[0m\u001b[1;33m\u001b[0m\u001b[0m\n\u001b[0;32m   3380\u001b[0m         \u001b[0max\u001b[0m\u001b[1;33m.\u001b[0m\u001b[0m_hold\u001b[0m \u001b[1;33m=\u001b[0m \u001b[0mwashold\u001b[0m\u001b[1;33m\u001b[0m\u001b[0m\n",
      "\u001b[1;32m~\\Anaconda3\\lib\\site-packages\\matplotlib\\__init__.py\u001b[0m in \u001b[0;36minner\u001b[1;34m(ax, *args, **kwargs)\u001b[0m\n\u001b[0;32m   1715\u001b[0m                     warnings.warn(msg % (label_namer, func.__name__),\n\u001b[0;32m   1716\u001b[0m                                   RuntimeWarning, stacklevel=2)\n\u001b[1;32m-> 1717\u001b[1;33m             \u001b[1;32mreturn\u001b[0m \u001b[0mfunc\u001b[0m\u001b[1;33m(\u001b[0m\u001b[0max\u001b[0m\u001b[1;33m,\u001b[0m \u001b[1;33m*\u001b[0m\u001b[0margs\u001b[0m\u001b[1;33m,\u001b[0m \u001b[1;33m**\u001b[0m\u001b[0mkwargs\u001b[0m\u001b[1;33m)\u001b[0m\u001b[1;33m\u001b[0m\u001b[0m\n\u001b[0m\u001b[0;32m   1718\u001b[0m         \u001b[0mpre_doc\u001b[0m \u001b[1;33m=\u001b[0m \u001b[0minner\u001b[0m\u001b[1;33m.\u001b[0m\u001b[0m__doc__\u001b[0m\u001b[1;33m\u001b[0m\u001b[0m\n\u001b[0;32m   1719\u001b[0m         \u001b[1;32mif\u001b[0m \u001b[0mpre_doc\u001b[0m \u001b[1;32mis\u001b[0m \u001b[1;32mNone\u001b[0m\u001b[1;33m:\u001b[0m\u001b[1;33m\u001b[0m\u001b[0m\n",
      "\u001b[1;32m~\\Anaconda3\\lib\\site-packages\\matplotlib\\axes\\_axes.py\u001b[0m in \u001b[0;36mscatter\u001b[1;34m(self, x, y, s, c, marker, cmap, norm, vmin, vmax, alpha, linewidths, verts, edgecolors, **kwargs)\u001b[0m\n\u001b[0;32m   3953\u001b[0m         \u001b[0my\u001b[0m \u001b[1;33m=\u001b[0m \u001b[0mnp\u001b[0m\u001b[1;33m.\u001b[0m\u001b[0mma\u001b[0m\u001b[1;33m.\u001b[0m\u001b[0mravel\u001b[0m\u001b[1;33m(\u001b[0m\u001b[0my\u001b[0m\u001b[1;33m)\u001b[0m\u001b[1;33m\u001b[0m\u001b[0m\n\u001b[0;32m   3954\u001b[0m         \u001b[1;32mif\u001b[0m \u001b[0mx\u001b[0m\u001b[1;33m.\u001b[0m\u001b[0msize\u001b[0m \u001b[1;33m!=\u001b[0m \u001b[0my\u001b[0m\u001b[1;33m.\u001b[0m\u001b[0msize\u001b[0m\u001b[1;33m:\u001b[0m\u001b[1;33m\u001b[0m\u001b[0m\n\u001b[1;32m-> 3955\u001b[1;33m             \u001b[1;32mraise\u001b[0m \u001b[0mValueError\u001b[0m\u001b[1;33m(\u001b[0m\u001b[1;34m\"x and y must be the same size\"\u001b[0m\u001b[1;33m)\u001b[0m\u001b[1;33m\u001b[0m\u001b[0m\n\u001b[0m\u001b[0;32m   3956\u001b[0m \u001b[1;33m\u001b[0m\u001b[0m\n\u001b[0;32m   3957\u001b[0m         \u001b[1;32mif\u001b[0m \u001b[0ms\u001b[0m \u001b[1;32mis\u001b[0m \u001b[1;32mNone\u001b[0m\u001b[1;33m:\u001b[0m\u001b[1;33m\u001b[0m\u001b[0m\n",
      "\u001b[1;31mValueError\u001b[0m: x and y must be the same size"
     ]
    },
    {
     "data": {
      "image/png": "[encoded data removed]",
      "text/plain": [
       "<matplotlib.figure.Figure at 0x21f7e6e2c88>"
      ]
     },
     "metadata": {},
     "output_type": "display_data"
    }
   ],
   "source": [
    "# Plot outputs\n",
    "plt.scatter(X_test, y_test,  color='black')\n",
    "plt.plot(X_test, y_pred, color='blue', linewidth=3)\n",
    "\n",
    "#plt.xticks(())\n",
    "#plt.yticks(())\n",
    "\n",
    "plt.show()"
   ]
  },
  {
   "cell_type": "code",
   "execution_count": null,
   "metadata": {},
   "outputs": [],
   "source": []
  }
 ],
 "metadata": {
  "kernelspec": {
   "display_name": "Python 3",
   "language": "python",
   "name": "python3"
  },
  "language_info": {
   "codemirror_mode": {
    "name": "ipython",
    "version": 3
   },
   "file_extension": ".py",
   "mimetype": "text/x-python",
   "name": "python",
   "nbconvert_exporter": "python",
   "pygments_lexer": "ipython3",
   "version": "3.6.4"
  }
 },
 "nbformat": 4,
 "nbformat_minor": 1
}
