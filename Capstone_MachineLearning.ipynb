{
 "cells": [
  {
   "cell_type": "code",
   "execution_count": 1,
   "metadata": {},
   "outputs": [],
   "source": [
    "#Importing all necessary packages\n",
    "from sklearn.cluster import KMeans\n",
    "from sklearn.decomposition import PCA\n",
    "from pandas import read_excel, merge\n",
    "from IPython.core.display import HTML\n",
    "css_file = 'style.css'\n",
    "from numpy import nan\n",
    "import sklearn\n",
    "#import plotly.graph_objs as go\n",
    "#from plotly.offline import init_notebook_mode, iplot\n",
    "#init_notebook_mode()\n",
    "import pandas as pd\n",
    "import numpy as np\n",
    "import matplotlib.pyplot as plt\n",
    "import matplotlib.cm as cm\n",
    "import seaborn as sn\n",
    "from scipy import stats\n",
    "from sklearn.cluster import KMeans\n",
    "import matplotlib.pyplot as plt\n",
    "import seaborn as sns\n",
    "from sklearn.decomposition import PCA\n",
    "import pylab as pl\n",
    "import matplotlib.patches as mpatches\n",
    "%matplotlib inline\n",
    "from sklearn.preprocessing import StandardScaler"
   ]
  },
  {
   "cell_type": "code",
   "execution_count": 2,
   "metadata": {},
   "outputs": [
    {
     "data": {
      "text/html": [
       "<div>\n",
       "<style scoped>\n",
       "    .dataframe tbody tr th:only-of-type {\n",
       "        vertical-align: middle;\n",
       "    }\n",
       "\n",
       "    .dataframe tbody tr th {\n",
       "        vertical-align: top;\n",
       "    }\n",
       "\n",
       "    .dataframe thead th {\n",
       "        text-align: right;\n",
       "    }\n",
       "</style>\n",
       "<table border=\"1\" class=\"dataframe\">\n",
       "  <thead>\n",
       "    <tr style=\"text-align: right;\">\n",
       "      <th></th>\n",
       "      <th>HCM2</th>\n",
       "      <th>PREDDEG</th>\n",
       "      <th>HIGHDEG</th>\n",
       "      <th>CONTROL</th>\n",
       "      <th>LOCALE</th>\n",
       "      <th>HBCU</th>\n",
       "      <th>PBI</th>\n",
       "      <th>ANNHI</th>\n",
       "      <th>TRIBAL</th>\n",
       "      <th>AANAPII</th>\n",
       "      <th>...</th>\n",
       "      <th>NPT43_PRIV</th>\n",
       "      <th>NPT44_PRIV</th>\n",
       "      <th>NPT45_PRIV</th>\n",
       "      <th>PCTPELL</th>\n",
       "      <th>RET_FT4</th>\n",
       "      <th>RET_FTL4</th>\n",
       "      <th>RET_PT4</th>\n",
       "      <th>RET_PTL4</th>\n",
       "      <th>PCTFLOAN</th>\n",
       "      <th>UG25ABV</th>\n",
       "    </tr>\n",
       "  </thead>\n",
       "  <tbody>\n",
       "    <tr>\n",
       "      <th>0</th>\n",
       "      <td>0</td>\n",
       "      <td>3</td>\n",
       "      <td>3</td>\n",
       "      <td>2</td>\n",
       "      <td>12.0</td>\n",
       "      <td>0.0</td>\n",
       "      <td>0.0</td>\n",
       "      <td>0.0</td>\n",
       "      <td>0.0</td>\n",
       "      <td>0.0</td>\n",
       "      <td>...</td>\n",
       "      <td>20676.000000</td>\n",
       "      <td>21980.000000</td>\n",
       "      <td>24681.0</td>\n",
       "      <td>0.1992</td>\n",
       "      <td>0.8608</td>\n",
       "      <td>0.54012</td>\n",
       "      <td>0.461533</td>\n",
       "      <td>0.27298</td>\n",
       "      <td>0.4633</td>\n",
       "      <td>0.0141</td>\n",
       "    </tr>\n",
       "    <tr>\n",
       "      <th>1</th>\n",
       "      <td>0</td>\n",
       "      <td>2</td>\n",
       "      <td>2</td>\n",
       "      <td>1</td>\n",
       "      <td>41.0</td>\n",
       "      <td>0.0</td>\n",
       "      <td>1.0</td>\n",
       "      <td>0.0</td>\n",
       "      <td>0.0</td>\n",
       "      <td>0.0</td>\n",
       "      <td>...</td>\n",
       "      <td>21999.500000</td>\n",
       "      <td>24233.000000</td>\n",
       "      <td>24231.0</td>\n",
       "      <td>0.6050</td>\n",
       "      <td>0.6538</td>\n",
       "      <td>0.54440</td>\n",
       "      <td>0.230767</td>\n",
       "      <td>0.20630</td>\n",
       "      <td>0.3058</td>\n",
       "      <td>0.3604</td>\n",
       "    </tr>\n",
       "    <tr>\n",
       "      <th>2</th>\n",
       "      <td>0</td>\n",
       "      <td>2</td>\n",
       "      <td>3</td>\n",
       "      <td>2</td>\n",
       "      <td>32.0</td>\n",
       "      <td>1.0</td>\n",
       "      <td>0.0</td>\n",
       "      <td>0.0</td>\n",
       "      <td>0.0</td>\n",
       "      <td>0.0</td>\n",
       "      <td>...</td>\n",
       "      <td>23323.000000</td>\n",
       "      <td>26486.000000</td>\n",
       "      <td>23781.0</td>\n",
       "      <td>0.9048</td>\n",
       "      <td>0.4468</td>\n",
       "      <td>0.54860</td>\n",
       "      <td>0.000000</td>\n",
       "      <td>0.25940</td>\n",
       "      <td>0.9249</td>\n",
       "      <td>0.1294</td>\n",
       "    </tr>\n",
       "    <tr>\n",
       "      <th>3</th>\n",
       "      <td>0</td>\n",
       "      <td>3</td>\n",
       "      <td>4</td>\n",
       "      <td>3</td>\n",
       "      <td>12.0</td>\n",
       "      <td>0.0</td>\n",
       "      <td>0.0</td>\n",
       "      <td>0.0</td>\n",
       "      <td>0.0</td>\n",
       "      <td>0.0</td>\n",
       "      <td>...</td>\n",
       "      <td>23408.000000</td>\n",
       "      <td>27628.000000</td>\n",
       "      <td>23331.0</td>\n",
       "      <td>0.6922</td>\n",
       "      <td>0.4400</td>\n",
       "      <td>0.55280</td>\n",
       "      <td>0.125000</td>\n",
       "      <td>0.31250</td>\n",
       "      <td>0.7304</td>\n",
       "      <td>0.6109</td>\n",
       "    </tr>\n",
       "    <tr>\n",
       "      <th>4</th>\n",
       "      <td>0</td>\n",
       "      <td>2</td>\n",
       "      <td>2</td>\n",
       "      <td>1</td>\n",
       "      <td>32.0</td>\n",
       "      <td>0.0</td>\n",
       "      <td>0.0</td>\n",
       "      <td>0.0</td>\n",
       "      <td>0.0</td>\n",
       "      <td>0.0</td>\n",
       "      <td>...</td>\n",
       "      <td>23832.666667</td>\n",
       "      <td>26274.333333</td>\n",
       "      <td>22881.0</td>\n",
       "      <td>0.4928</td>\n",
       "      <td>0.4823</td>\n",
       "      <td>0.55700</td>\n",
       "      <td>0.250000</td>\n",
       "      <td>0.36560</td>\n",
       "      <td>0.2128</td>\n",
       "      <td>0.2896</td>\n",
       "    </tr>\n",
       "  </tbody>\n",
       "</table>\n",
       "<p>5 rows × 108 columns</p>\n",
       "</div>"
      ],
      "text/plain": [
       "   HCM2  PREDDEG  HIGHDEG  CONTROL  LOCALE  HBCU  PBI  ANNHI  TRIBAL  AANAPII  \\\n",
       "0     0        3        3        2    12.0   0.0  0.0    0.0     0.0      0.0   \n",
       "1     0        2        2        1    41.0   0.0  1.0    0.0     0.0      0.0   \n",
       "2     0        2        3        2    32.0   1.0  0.0    0.0     0.0      0.0   \n",
       "3     0        3        4        3    12.0   0.0  0.0    0.0     0.0      0.0   \n",
       "4     0        2        2        1    32.0   0.0  0.0    0.0     0.0      0.0   \n",
       "\n",
       "    ...       NPT43_PRIV    NPT44_PRIV  NPT45_PRIV  PCTPELL  RET_FT4  \\\n",
       "0   ...     20676.000000  21980.000000     24681.0   0.1992   0.8608   \n",
       "1   ...     21999.500000  24233.000000     24231.0   0.6050   0.6538   \n",
       "2   ...     23323.000000  26486.000000     23781.0   0.9048   0.4468   \n",
       "3   ...     23408.000000  27628.000000     23331.0   0.6922   0.4400   \n",
       "4   ...     23832.666667  26274.333333     22881.0   0.4928   0.4823   \n",
       "\n",
       "   RET_FTL4   RET_PT4  RET_PTL4  PCTFLOAN  UG25ABV  \n",
       "0   0.54012  0.461533   0.27298    0.4633   0.0141  \n",
       "1   0.54440  0.230767   0.20630    0.3058   0.3604  \n",
       "2   0.54860  0.000000   0.25940    0.9249   0.1294  \n",
       "3   0.55280  0.125000   0.31250    0.7304   0.6109  \n",
       "4   0.55700  0.250000   0.36560    0.2128   0.2896  \n",
       "\n",
       "[5 rows x 108 columns]"
      ]
     },
     "execution_count": 2,
     "metadata": {},
     "output_type": "execute_result"
    }
   ],
   "source": [
    "df = pd.read_csv('Final_Dataset.csv',sep=' ')\n",
    "df.head()"
   ]
  },
  {
   "cell_type": "code",
   "execution_count": null,
   "metadata": {},
   "outputs": [],
   "source": []
  },
  {
   "cell_type": "code",
   "execution_count": 3,
   "metadata": {},
   "outputs": [
    {
     "data": {
      "text/plain": [
       "(7583, 108)"
      ]
     },
     "execution_count": 3,
     "metadata": {},
     "output_type": "execute_result"
    }
   ],
   "source": [
    "df.shape"
   ]
  },
  {
   "cell_type": "code",
   "execution_count": 4,
   "metadata": {},
   "outputs": [
    {
     "name": "stdout",
     "output_type": "stream",
     "text": [
      "<class 'pandas.core.frame.DataFrame'>\n",
      "RangeIndex: 7583 entries, 0 to 7582\n",
      "Columns: 108 entries, HCM2 to UG25ABV\n",
      "dtypes: float64(103), int64(5)\n",
      "memory usage: 6.2 MB\n"
     ]
    }
   ],
   "source": [
    "df.info()"
   ]
  },
  {
   "cell_type": "code",
   "execution_count": 7,
   "metadata": {},
   "outputs": [
    {
     "name": "stdout",
     "output_type": "stream",
     "text": [
      "   HCM2  PREDDEG  HIGHDEG  CONTROL  LOCALE  HBCU  PBI  ANNHI  TRIBAL  AANAPII  \\\n",
      "0     0        3        3        2    12.0   0.0  0.0    0.0     0.0      0.0   \n",
      "1     0        2        2        1    41.0   0.0  1.0    0.0     0.0      0.0   \n",
      "2     0        2        3        2    32.0   1.0  0.0    0.0     0.0      0.0   \n",
      "3     0        3        4        3    12.0   0.0  0.0    0.0     0.0      0.0   \n",
      "4     0        2        2        1    32.0   0.0  0.0    0.0     0.0      0.0   \n",
      "\n",
      "   HSI  NANTI  MENONLY  WOMENONLY  RELAFFIL     SATVR25     SATVR75  SATMT25  \\\n",
      "0  0.0    0.0      0.0        0.0      71.0  480.000000  590.000000    500.0   \n",
      "1  0.0    0.0      0.0        0.0      69.5  471.666667  578.333333    490.0   \n",
      "2  0.0    0.0      0.0        0.0      68.0  463.333333  566.666667    480.0   \n",
      "3  0.0    0.0      0.0        0.0      69.5  455.000000  555.000000    470.0   \n",
      "4  0.0    0.0      0.0        0.0      71.0  446.666667  543.333333    460.0   \n",
      "\n",
      "      SATMT75     SATWR25     SATWR75  SATVRMID    SATMTMID    SATWRMID  \\\n",
      "0  610.000000  507.142857  604.285714     535.0  555.000000  555.714286   \n",
      "1  593.333333  494.285714  588.571429     525.0  541.666667  541.428571   \n",
      "2  576.666667  481.428571  572.857143     515.0  528.333333  527.142857   \n",
      "3  560.000000  468.571429  557.142857     505.0  515.000000  512.857143   \n",
      "4  543.333333  455.714286  541.428571     495.0  501.666667  498.571429   \n",
      "\n",
      "     ACTCM25    ACTCM75    ACTEN25  ACTEN75  ACTMT25    ACTMT75   ACTWR25  \\\n",
      "0  23.000000  29.000000  23.000000     30.0     22.0  28.000000  7.266667   \n",
      "1  22.166667  28.166667  22.166667     29.0     21.0  27.166667  7.533333   \n",
      "2  21.333333  27.333333  21.333333     28.0     20.0  26.333333  7.800000   \n",
      "3  20.500000  26.500000  20.500000     27.0     19.0  25.500000  8.066667   \n",
      "4  19.666667  25.666667  19.666667     26.0     18.0  24.666667  8.333333   \n",
      "\n",
      "    ACTWR75   ACTCMMID  ACTENMID   ACTMTMID  ACTWRMID      SAT_AVG  \\\n",
      "0  8.266667  26.000000      27.0  25.000000  8.266667  1167.000000   \n",
      "1  8.533333  25.166667      26.0  24.166667  8.533333  1136.666667   \n",
      "2  8.800000  24.333333      25.0  23.333333  8.800000  1106.333333   \n",
      "3  9.066667  23.500000      24.0  22.500000  9.066667  1076.000000   \n",
      "4  9.333333  22.666667      23.0  21.666667  9.333333  1045.666667   \n",
      "\n",
      "   SAT_AVG_ALL  PCIP01  PCIP03  PCIP04  PCIP05  PCIP09  PCIP10  PCIP11  \\\n",
      "0  1167.000000     0.0  0.0225     0.0     0.0   0.009     0.0  0.0000   \n",
      "1  1136.666667     0.0  0.0000     0.0     0.0   0.000     0.0  0.0575   \n",
      "2  1106.333333     0.0  0.0000     0.0     0.0   0.000     0.0  0.0000   \n",
      "3  1076.000000     0.0  0.0000     0.0     0.0   0.000     0.0  0.1009   \n",
      "4  1045.666667     0.0  0.0000     0.0     0.0   0.000     0.0  0.0243   \n",
      "\n",
      "   PCIP12  PCIP13  PCIP14  PCIP15  PCIP16  PCIP19  PCIP22  PCIP23  PCIP24  \\\n",
      "0     0.0  0.0495   0.009  0.0000  0.0135  0.0000  0.0000  0.0405  0.0000   \n",
      "1     0.0  0.0000   0.000  0.0354  0.0000  0.0000  0.0000  0.0000  0.3982   \n",
      "2     0.0  0.1765   0.000  0.0000  0.0000  0.0000  0.0000  0.0000  0.4510   \n",
      "3     0.0  0.0000   0.000  0.0000  0.0000  0.0000  0.0642  0.0000  0.0000   \n",
      "4     0.0  0.0000   0.000  0.0000  0.0000  0.0121  0.0162  0.0000  0.3927   \n",
      "\n",
      "   PCIP25  PCIP26  PCIP27  PCIP29  PCIP30  PCIP31  PCIP38  PCIP39  PCIP40  \\\n",
      "0     0.0  0.1261  0.0405     0.0   0.027     0.0  0.0315     0.0  0.0721   \n",
      "1     0.0  0.0000  0.0000     0.0   0.000     0.0  0.0000     0.0  0.0000   \n",
      "2     0.0  0.0000  0.0000     0.0   0.000     0.0  0.0000     0.0  0.0000   \n",
      "3     0.0  0.0000  0.0000     0.0   0.000     0.0  0.0000     0.0  0.0000   \n",
      "4     0.0  0.0000  0.0000     0.0   0.000     0.0  0.0000     0.0  0.0000   \n",
      "\n",
      "   PCIP41  PCIP42  PCIP43  PCIP44  PCIP45  PCIP46  PCIP47  PCIP48  PCIP49  \\\n",
      "0     0.0  0.1081  0.0000     0.0  0.0856     0.0  0.0000     0.0     0.0   \n",
      "1     0.0  0.0000  0.0796     0.0  0.0000     0.0  0.0000     0.0     0.0   \n",
      "2     0.0  0.0000  0.0000     0.0  0.0000     0.0  0.0000     0.0     0.0   \n",
      "3     0.0  0.0092  0.0550     0.0  0.0000     0.0  0.0000     0.0     0.0   \n",
      "4     0.0  0.0000  0.0000     0.0  0.0000     0.0  0.3684     0.0     0.0   \n",
      "\n",
      "   PCIP50  PCIP51  PCIP52  PCIP54  DISTANCEONLY    UGDS  UGDS_WHITE  \\\n",
      "0  0.0991  0.0000  0.2207   0.045           0.0  1346.0      0.7912   \n",
      "1  0.0044  0.2743  0.1504   0.000           0.0  1566.0      0.4662   \n",
      "2  0.0000  0.0000  0.3725   0.000           0.0   379.0      0.0317   \n",
      "3  0.0000  0.6881  0.0826   0.000           0.0   460.0      0.3283   \n",
      "4  0.0000  0.0202  0.1660   0.000           0.0  1528.0      0.6296   \n",
      "\n",
      "   UGDS_BLACK  UGDS_HISP  UGDS_ASIAN  UGDS_AIAN  UGDS_NHPI  UGDS_2MOR  \\\n",
      "0      0.1137     0.0208      0.0535     0.0097     0.0000     0.0089   \n",
      "1      0.4393     0.0453      0.0109     0.0038     0.0057     0.0166   \n",
      "2      0.9077     0.0317      0.0026     0.0000     0.0000     0.0000   \n",
      "3      0.5913     0.0217      0.0152     0.0109     0.0087     0.0000   \n",
      "4      0.2435     0.0582      0.0216     0.0046     0.0033     0.0334   \n",
      "\n",
      "   UGDS_NRA  UGDS_UNKN  PPTUG_EF  CURROPER  NPT4_PUB     NPT4_PRIV  NPT41_PUB  \\\n",
      "0    0.0000     0.0022    0.0067         1   11793.0  21562.000000     9046.0   \n",
      "1    0.0000     0.0121    0.3914         1    1403.0  21700.000000      876.0   \n",
      "2    0.0264     0.0000    0.0923         1    2435.0  21838.000000     1767.0   \n",
      "3    0.0022     0.0217    0.2674         1    3467.0  21275.000000     2658.0   \n",
      "4    0.0007     0.0052    0.4071         1    4499.0  22173.333333     3549.0   \n",
      "\n",
      "      NPT42_PUB  NPT43_PUB     NPT44_PUB  NPT45_PUB    NPT41_PRIV  \\\n",
      "0  10021.500000    12550.5  14663.500000    15712.5  18551.000000   \n",
      "1    854.000000     2891.0   4944.000000     5620.0  19874.000000   \n",
      "2   2105.666667     3856.0   5987.666667     6612.0  21197.000000   \n",
      "3   3357.333333     4821.0   7031.333333     7604.0  20558.000000   \n",
      "4   4609.000000     5786.0   8075.000000     8596.0  21609.333333   \n",
      "\n",
      "     NPT42_PRIV    NPT43_PRIV    NPT44_PRIV  NPT45_PRIV  PCTPELL  RET_FT4  \\\n",
      "0  17803.000000  20676.000000  21980.000000     24681.0   0.1992   0.8608   \n",
      "1  20209.500000  21999.500000  24233.000000     24231.0   0.6050   0.6538   \n",
      "2  22616.000000  23323.000000  26486.000000     23781.0   0.9048   0.4468   \n",
      "3  22448.000000  23408.000000  27628.000000     23331.0   0.6922   0.4400   \n",
      "4  23370.666667  23832.666667  26274.333333     22881.0   0.4928   0.4823   \n",
      "\n",
      "   RET_FTL4   RET_PT4  RET_PTL4  PCTFLOAN  UG25ABV  \n",
      "0   0.54012  0.461533   0.27298    0.4633   0.0141  \n",
      "1   0.54440  0.230767   0.20630    0.3058   0.3604  \n",
      "2   0.54860  0.000000   0.25940    0.9249   0.1294  \n",
      "3   0.55280  0.125000   0.31250    0.7304   0.6109  \n",
      "4   0.55700  0.250000   0.36560    0.2128   0.2896  \n"
     ]
    }
   ],
   "source": [
    "#After applying Interpolate Checking the number of Null Values\n",
    "with pd.option_context('display.max_rows', None, 'display.max_columns', None):\n",
    "    print(df.head())"
   ]
  },
  {
   "cell_type": "code",
   "execution_count": 26,
   "metadata": {},
   "outputs": [],
   "source": [
    "features=df[['HCM2','SAT_AVG_ALL','UGDS','PPTUG_EF','CURROPER','NPT4_PUB','NPT4_PRIV','PCTPELL','PCTFLOAN','UG25ABV','ACTCMMID']]\n",
    "target=df[['RET_FT4']]"
   ]
  },
  {
   "cell_type": "code",
   "execution_count": 12,
   "metadata": {},
   "outputs": [
    {
     "data": {
      "text/html": [
       "<table class=\"simpletable\">\n",
       "<caption>OLS Regression Results</caption>\n",
       "<tr>\n",
       "  <th>Dep. Variable:</th>         <td>RET_FT4</td>     <th>  R-squared:         </th> <td>   0.937</td> \n",
       "</tr>\n",
       "<tr>\n",
       "  <th>Model:</th>                   <td>OLS</td>       <th>  Adj. R-squared:    </th> <td>   0.937</td> \n",
       "</tr>\n",
       "<tr>\n",
       "  <th>Method:</th>             <td>Least Squares</td>  <th>  F-statistic:       </th> <td>1.018e+04</td>\n",
       "</tr>\n",
       "<tr>\n",
       "  <th>Date:</th>             <td>Tue, 29 May 2018</td> <th>  Prob (F-statistic):</th>  <td>  0.00</td>  \n",
       "</tr>\n",
       "<tr>\n",
       "  <th>Time:</th>                 <td>03:39:32</td>     <th>  Log-Likelihood:    </th> <td>  2309.3</td> \n",
       "</tr>\n",
       "<tr>\n",
       "  <th>No. Observations:</th>      <td>  7583</td>      <th>  AIC:               </th> <td>  -4597.</td> \n",
       "</tr>\n",
       "<tr>\n",
       "  <th>Df Residuals:</th>          <td>  7572</td>      <th>  BIC:               </th> <td>  -4520.</td> \n",
       "</tr>\n",
       "<tr>\n",
       "  <th>Df Model:</th>              <td>    11</td>      <th>                     </th>     <td> </td>    \n",
       "</tr>\n",
       "<tr>\n",
       "  <th>Covariance Type:</th>      <td>nonrobust</td>    <th>                     </th>     <td> </td>    \n",
       "</tr>\n",
       "</table>\n",
       "<table class=\"simpletable\">\n",
       "<tr>\n",
       "       <td></td>          <th>coef</th>     <th>std err</th>      <th>t</th>      <th>P>|t|</th>  <th>[0.025</th>    <th>0.975]</th>  \n",
       "</tr>\n",
       "<tr>\n",
       "  <th>HCM2</th>        <td>    0.0062</td> <td>    0.022</td> <td>    0.288</td> <td> 0.773</td> <td>   -0.036</td> <td>    0.048</td>\n",
       "</tr>\n",
       "<tr>\n",
       "  <th>SAT_AVG_ALL</th> <td> 5.433e-05</td> <td> 2.52e-05</td> <td>    2.160</td> <td> 0.031</td> <td> 5.01e-06</td> <td>    0.000</td>\n",
       "</tr>\n",
       "<tr>\n",
       "  <th>UGDS</th>        <td> 2.231e-06</td> <td> 4.27e-07</td> <td>    5.231</td> <td> 0.000</td> <td>  1.4e-06</td> <td> 3.07e-06</td>\n",
       "</tr>\n",
       "<tr>\n",
       "  <th>PPTUG_EF</th>    <td>    0.0247</td> <td>    0.009</td> <td>    2.643</td> <td> 0.008</td> <td>    0.006</td> <td>    0.043</td>\n",
       "</tr>\n",
       "<tr>\n",
       "  <th>CURROPER</th>    <td>    0.1030</td> <td>    0.006</td> <td>   15.930</td> <td> 0.000</td> <td>    0.090</td> <td>    0.116</td>\n",
       "</tr>\n",
       "<tr>\n",
       "  <th>NPT4_PUB</th>    <td> 5.737e-06</td> <td> 4.85e-07</td> <td>   11.823</td> <td> 0.000</td> <td> 4.79e-06</td> <td> 6.69e-06</td>\n",
       "</tr>\n",
       "<tr>\n",
       "  <th>NPT4_PRIV</th>   <td> 2.216e-06</td> <td> 3.25e-07</td> <td>    6.829</td> <td> 0.000</td> <td> 1.58e-06</td> <td> 2.85e-06</td>\n",
       "</tr>\n",
       "<tr>\n",
       "  <th>PCTPELL</th>     <td>   -0.0128</td> <td>    0.012</td> <td>   -1.107</td> <td> 0.268</td> <td>   -0.035</td> <td>    0.010</td>\n",
       "</tr>\n",
       "<tr>\n",
       "  <th>PCTFLOAN</th>    <td>   -0.0316</td> <td>    0.009</td> <td>   -3.462</td> <td> 0.001</td> <td>   -0.050</td> <td>   -0.014</td>\n",
       "</tr>\n",
       "<tr>\n",
       "  <th>UG25ABV</th>     <td>   -0.0922</td> <td>    0.011</td> <td>   -8.581</td> <td> 0.000</td> <td>   -0.113</td> <td>   -0.071</td>\n",
       "</tr>\n",
       "<tr>\n",
       "  <th>ACTCMMID</th>    <td>    0.0206</td> <td>    0.001</td> <td>   18.459</td> <td> 0.000</td> <td>    0.018</td> <td>    0.023</td>\n",
       "</tr>\n",
       "</table>\n",
       "<table class=\"simpletable\">\n",
       "<tr>\n",
       "  <th>Omnibus:</th>       <td>1425.699</td> <th>  Durbin-Watson:     </th> <td>   0.341</td>\n",
       "</tr>\n",
       "<tr>\n",
       "  <th>Prob(Omnibus):</th>  <td> 0.000</td>  <th>  Jarque-Bera (JB):  </th> <td>3173.103</td>\n",
       "</tr>\n",
       "<tr>\n",
       "  <th>Skew:</th>           <td>-1.082</td>  <th>  Prob(JB):          </th> <td>    0.00</td>\n",
       "</tr>\n",
       "<tr>\n",
       "  <th>Kurtosis:</th>       <td> 5.315</td>  <th>  Cond. No.          </th> <td>2.32e+05</td>\n",
       "</tr>\n",
       "</table>"
      ],
      "text/plain": [
       "<class 'statsmodels.iolib.summary.Summary'>\n",
       "\"\"\"\n",
       "                            OLS Regression Results                            \n",
       "==============================================================================\n",
       "Dep. Variable:                RET_FT4   R-squared:                       0.937\n",
       "Model:                            OLS   Adj. R-squared:                  0.937\n",
       "Method:                 Least Squares   F-statistic:                 1.018e+04\n",
       "Date:                Tue, 29 May 2018   Prob (F-statistic):               0.00\n",
       "Time:                        03:39:32   Log-Likelihood:                 2309.3\n",
       "No. Observations:                7583   AIC:                            -4597.\n",
       "Df Residuals:                    7572   BIC:                            -4520.\n",
       "Df Model:                          11                                         \n",
       "Covariance Type:            nonrobust                                         \n",
       "===============================================================================\n",
       "                  coef    std err          t      P>|t|      [0.025      0.975]\n",
       "-------------------------------------------------------------------------------\n",
       "HCM2            0.0062      0.022      0.288      0.773      -0.036       0.048\n",
       "SAT_AVG_ALL  5.433e-05   2.52e-05      2.160      0.031    5.01e-06       0.000\n",
       "UGDS         2.231e-06   4.27e-07      5.231      0.000     1.4e-06    3.07e-06\n",
       "PPTUG_EF        0.0247      0.009      2.643      0.008       0.006       0.043\n",
       "CURROPER        0.1030      0.006     15.930      0.000       0.090       0.116\n",
       "NPT4_PUB     5.737e-06   4.85e-07     11.823      0.000    4.79e-06    6.69e-06\n",
       "NPT4_PRIV    2.216e-06   3.25e-07      6.829      0.000    1.58e-06    2.85e-06\n",
       "PCTPELL        -0.0128      0.012     -1.107      0.268      -0.035       0.010\n",
       "PCTFLOAN       -0.0316      0.009     -3.462      0.001      -0.050      -0.014\n",
       "UG25ABV        -0.0922      0.011     -8.581      0.000      -0.113      -0.071\n",
       "ACTCMMID        0.0206      0.001     18.459      0.000       0.018       0.023\n",
       "==============================================================================\n",
       "Omnibus:                     1425.699   Durbin-Watson:                   0.341\n",
       "Prob(Omnibus):                  0.000   Jarque-Bera (JB):             3173.103\n",
       "Skew:                          -1.082   Prob(JB):                         0.00\n",
       "Kurtosis:                       5.315   Cond. No.                     2.32e+05\n",
       "==============================================================================\n",
       "\n",
       "Warnings:\n",
       "[1] Standard Errors assume that the covariance matrix of the errors is correctly specified.\n",
       "[2] The condition number is large, 2.32e+05. This might indicate that there are\n",
       "strong multicollinearity or other numerical problems.\n",
       "\"\"\""
      ]
     },
     "execution_count": 12,
     "metadata": {},
     "output_type": "execute_result"
    }
   ],
   "source": [
    "## Without a constant\n",
    "import statsmodels.api as sm\n",
    "\n",
    "# Note the difference in argument order\n",
    "model = sm.OLS(target, features).fit()\n",
    "predictions = model.predict(features) # make the predictions by the model\n",
    "\n",
    "# Print out the statistics\n",
    "model.summary()"
   ]
  },
  {
   "cell_type": "code",
   "execution_count": 21,
   "metadata": {},
   "outputs": [],
   "source": [
    "x = features.loc[:, :].values\n",
    "\n",
    "# Separating out the target\n",
    "y = target.loc[:,:].values\n",
    "\n",
    "# Standardizing the features\n",
    "x = StandardScaler().fit_transform(x)"
   ]
  },
  {
   "cell_type": "code",
   "execution_count": 24,
   "metadata": {},
   "outputs": [],
   "source": [
    "from sklearn.decomposition import PCA\n",
    "\n",
    "pca = PCA(n_components=1)\n",
    "principalComponents = pca.fit_transform(x)\n",
    "principalDf = pd.DataFrame(data = principalComponents\n",
    "             , columns = ['principal component 1'])"
   ]
  },
  {
   "cell_type": "code",
   "execution_count": 27,
   "metadata": {},
   "outputs": [],
   "source": [
    "finalDf = pd.concat([principalDf, target], axis = 1)"
   ]
  },
  {
   "cell_type": "code",
   "execution_count": 29,
   "metadata": {},
   "outputs": [
    {
     "data": {
      "text/plain": [
       "<matplotlib.collections.PathCollection at 0x15827c97b38>"
      ]
     },
     "execution_count": 29,
     "metadata": {},
     "output_type": "execute_result"
    },
    {
     "data": {
      "image/png": "[encoded data removed]",
      "text/plain": [
       "<matplotlib.figure.Figure at 0x15827d7fe48>"
      ]
     },
     "metadata": {},
     "output_type": "display_data"
    }
   ],
   "source": [
    "plt.scatter(principalDf,y)"
   ]
  },
  {
   "cell_type": "code",
   "execution_count": 35,
   "metadata": {},
   "outputs": [],
   "source": [
    "# Import necessary modules\n",
    "\n",
    "from sklearn.linear_model import LinearRegression\n",
    "\n",
    "from sklearn.metrics import mean_squared_error\n",
    "\n",
    "from sklearn.model_selection import train_test_split"
   ]
  },
  {
   "cell_type": "code",
   "execution_count": 37,
   "metadata": {},
   "outputs": [],
   "source": [
    "# Create training and test sets\n",
    "\n",
    "X_train, X_test, y_train, y_test = train_test_split(x, y, test_size = 0.3, random_state=42)"
   ]
  },
  {
   "cell_type": "code",
   "execution_count": 38,
   "metadata": {},
   "outputs": [],
   "source": [
    "# Create the regressor: reg_all\n",
    "\n",
    "reg_all = LinearRegression()"
   ]
  },
  {
   "cell_type": "code",
   "execution_count": 39,
   "metadata": {},
   "outputs": [
    {
     "data": {
      "text/plain": [
       "LinearRegression(copy_X=True, fit_intercept=True, n_jobs=1, normalize=False)"
      ]
     },
     "execution_count": 39,
     "metadata": {},
     "output_type": "execute_result"
    }
   ],
   "source": [
    "# Fit the regressor to the training data\n",
    "\n",
    "reg_all.fit(X_train, y_train)"
   ]
  },
  {
   "cell_type": "code",
   "execution_count": 40,
   "metadata": {},
   "outputs": [
    {
     "name": "stdout",
     "output_type": "stream",
     "text": [
      "R^2: 0.14344831952866588\n",
      "Root Mean Squared Error: 0.17576847970333323\n"
     ]
    }
   ],
   "source": [
    "# Predict on the test data: y_pred\n",
    "\n",
    "y_pred = reg_all.predict(X_test)\n",
    "\n",
    " \n",
    "\n",
    "# Compute and print R^2 and RMSE\n",
    "\n",
    "print(\"R^2: {}\".format(reg_all.score(X_test, y_test)))\n",
    "\n",
    "rmse = np.sqrt(mean_squared_error(y_test, y_pred))\n",
    "\n",
    "print(\"Root Mean Squared Error: {}\".format(rmse))"
   ]
  },
  {
   "cell_type": "code",
   "execution_count": 43,
   "metadata": {},
   "outputs": [
    {
     "ename": "ValueError",
     "evalue": "x and y must be the same size",
     "output_type": "error",
     "traceback": [
      "\u001b[1;31m---------------------------------------------------------------------------\u001b[0m",
      "\u001b[1;31mValueError\u001b[0m                                Traceback (most recent call last)",
      "\u001b[1;32m<ipython-input-43-55c4b8ef24f4>\u001b[0m in \u001b[0;36m<module>\u001b[1;34m()\u001b[0m\n\u001b[0;32m      1\u001b[0m \u001b[1;31m# Plot outputs\u001b[0m\u001b[1;33m\u001b[0m\u001b[1;33m\u001b[0m\u001b[0m\n\u001b[1;32m----> 2\u001b[1;33m \u001b[0mplt\u001b[0m\u001b[1;33m.\u001b[0m\u001b[0mscatter\u001b[0m\u001b[1;33m(\u001b[0m\u001b[0mX_test\u001b[0m\u001b[1;33m,\u001b[0m \u001b[0my_test\u001b[0m\u001b[1;33m,\u001b[0m  \u001b[0mcolor\u001b[0m\u001b[1;33m=\u001b[0m\u001b[1;34m'black'\u001b[0m\u001b[1;33m)\u001b[0m\u001b[1;33m\u001b[0m\u001b[0m\n\u001b[0m\u001b[0;32m      3\u001b[0m \u001b[0mplt\u001b[0m\u001b[1;33m.\u001b[0m\u001b[0mplot\u001b[0m\u001b[1;33m(\u001b[0m\u001b[0mX_test\u001b[0m\u001b[1;33m,\u001b[0m \u001b[0my_pred\u001b[0m\u001b[1;33m,\u001b[0m \u001b[0mcolor\u001b[0m\u001b[1;33m=\u001b[0m\u001b[1;34m'blue'\u001b[0m\u001b[1;33m,\u001b[0m \u001b[0mlinewidth\u001b[0m\u001b[1;33m=\u001b[0m\u001b[1;36m3\u001b[0m\u001b[1;33m)\u001b[0m\u001b[1;33m\u001b[0m\u001b[0m\n\u001b[0;32m      4\u001b[0m \u001b[1;33m\u001b[0m\u001b[0m\n\u001b[0;32m      5\u001b[0m \u001b[1;31m#plt.xticks(())\u001b[0m\u001b[1;33m\u001b[0m\u001b[1;33m\u001b[0m\u001b[0m\n",
      "\u001b[1;32m~\\Anaconda3\\lib\\site-packages\\matplotlib\\pyplot.py\u001b[0m in \u001b[0;36mscatter\u001b[1;34m(x, y, s, c, marker, cmap, norm, vmin, vmax, alpha, linewidths, verts, edgecolors, hold, data, **kwargs)\u001b[0m\n\u001b[0;32m   3376\u001b[0m                          \u001b[0mvmin\u001b[0m\u001b[1;33m=\u001b[0m\u001b[0mvmin\u001b[0m\u001b[1;33m,\u001b[0m \u001b[0mvmax\u001b[0m\u001b[1;33m=\u001b[0m\u001b[0mvmax\u001b[0m\u001b[1;33m,\u001b[0m \u001b[0malpha\u001b[0m\u001b[1;33m=\u001b[0m\u001b[0malpha\u001b[0m\u001b[1;33m,\u001b[0m\u001b[1;33m\u001b[0m\u001b[0m\n\u001b[0;32m   3377\u001b[0m                          \u001b[0mlinewidths\u001b[0m\u001b[1;33m=\u001b[0m\u001b[0mlinewidths\u001b[0m\u001b[1;33m,\u001b[0m \u001b[0mverts\u001b[0m\u001b[1;33m=\u001b[0m\u001b[0mverts\u001b[0m\u001b[1;33m,\u001b[0m\u001b[1;33m\u001b[0m\u001b[0m\n\u001b[1;32m-> 3378\u001b[1;33m                          edgecolors=edgecolors, data=data, **kwargs)\n\u001b[0m\u001b[0;32m   3379\u001b[0m     \u001b[1;32mfinally\u001b[0m\u001b[1;33m:\u001b[0m\u001b[1;33m\u001b[0m\u001b[0m\n\u001b[0;32m   3380\u001b[0m         \u001b[0max\u001b[0m\u001b[1;33m.\u001b[0m\u001b[0m_hold\u001b[0m \u001b[1;33m=\u001b[0m \u001b[0mwashold\u001b[0m\u001b[1;33m\u001b[0m\u001b[0m\n",
      "\u001b[1;32m~\\Anaconda3\\lib\\site-packages\\matplotlib\\__init__.py\u001b[0m in \u001b[0;36minner\u001b[1;34m(ax, *args, **kwargs)\u001b[0m\n\u001b[0;32m   1715\u001b[0m                     warnings.warn(msg % (label_namer, func.__name__),\n\u001b[0;32m   1716\u001b[0m                                   RuntimeWarning, stacklevel=2)\n\u001b[1;32m-> 1717\u001b[1;33m             \u001b[1;32mreturn\u001b[0m \u001b[0mfunc\u001b[0m\u001b[1;33m(\u001b[0m\u001b[0max\u001b[0m\u001b[1;33m,\u001b[0m \u001b[1;33m*\u001b[0m\u001b[0margs\u001b[0m\u001b[1;33m,\u001b[0m \u001b[1;33m**\u001b[0m\u001b[0mkwargs\u001b[0m\u001b[1;33m)\u001b[0m\u001b[1;33m\u001b[0m\u001b[0m\n\u001b[0m\u001b[0;32m   1718\u001b[0m         \u001b[0mpre_doc\u001b[0m \u001b[1;33m=\u001b[0m \u001b[0minner\u001b[0m\u001b[1;33m.\u001b[0m\u001b[0m__doc__\u001b[0m\u001b[1;33m\u001b[0m\u001b[0m\n\u001b[0;32m   1719\u001b[0m         \u001b[1;32mif\u001b[0m \u001b[0mpre_doc\u001b[0m \u001b[1;32mis\u001b[0m \u001b[1;32mNone\u001b[0m\u001b[1;33m:\u001b[0m\u001b[1;33m\u001b[0m\u001b[0m\n",
      "\u001b[1;32m~\\Anaconda3\\lib\\site-packages\\matplotlib\\axes\\_axes.py\u001b[0m in \u001b[0;36mscatter\u001b[1;34m(self, x, y, s, c, marker, cmap, norm, vmin, vmax, alpha, linewidths, verts, edgecolors, **kwargs)\u001b[0m\n\u001b[0;32m   3953\u001b[0m         \u001b[0my\u001b[0m \u001b[1;33m=\u001b[0m \u001b[0mnp\u001b[0m\u001b[1;33m.\u001b[0m\u001b[0mma\u001b[0m\u001b[1;33m.\u001b[0m\u001b[0mravel\u001b[0m\u001b[1;33m(\u001b[0m\u001b[0my\u001b[0m\u001b[1;33m)\u001b[0m\u001b[1;33m\u001b[0m\u001b[0m\n\u001b[0;32m   3954\u001b[0m         \u001b[1;32mif\u001b[0m \u001b[0mx\u001b[0m\u001b[1;33m.\u001b[0m\u001b[0msize\u001b[0m \u001b[1;33m!=\u001b[0m \u001b[0my\u001b[0m\u001b[1;33m.\u001b[0m\u001b[0msize\u001b[0m\u001b[1;33m:\u001b[0m\u001b[1;33m\u001b[0m\u001b[0m\n\u001b[1;32m-> 3955\u001b[1;33m             \u001b[1;32mraise\u001b[0m \u001b[0mValueError\u001b[0m\u001b[1;33m(\u001b[0m\u001b[1;34m\"x and y must be the same size\"\u001b[0m\u001b[1;33m)\u001b[0m\u001b[1;33m\u001b[0m\u001b[0m\n\u001b[0m\u001b[0;32m   3956\u001b[0m \u001b[1;33m\u001b[0m\u001b[0m\n\u001b[0;32m   3957\u001b[0m         \u001b[1;32mif\u001b[0m \u001b[0ms\u001b[0m \u001b[1;32mis\u001b[0m \u001b[1;32mNone\u001b[0m\u001b[1;33m:\u001b[0m\u001b[1;33m\u001b[0m\u001b[0m\n",
      "\u001b[1;31mValueError\u001b[0m: x and y must be the same size"
     ]
    },
    {
     "data": {
      "image/png": "[encoded data removed]",
      "text/plain": [
       "<matplotlib.figure.Figure at 0x1581db33d30>"
      ]
     },
     "metadata": {},
     "output_type": "display_data"
    }
   ],
   "source": [
    "# Plot outputs\n",
    "plt.scatter(X_test, y_test,  color='black')\n",
    "plt.plot(X_test, y_pred, color='blue', linewidth=3)\n",
    "\n",
    "#plt.xticks(())\n",
    "#plt.yticks(())\n",
    "\n",
    "plt.show()"
   ]
  },
  {
   "cell_type": "code",
   "execution_count": null,
   "metadata": {},
   "outputs": [],
   "source": []
  }
 ],
 "metadata": {
  "kernelspec": {
   "display_name": "Python 3",
   "language": "python",
   "name": "python3"
  },
  "language_info": {
   "codemirror_mode": {
    "name": "ipython",
    "version": 3
   },
   "file_extension": ".py",
   "mimetype": "text/x-python",
   "name": "python",
   "nbconvert_exporter": "python",
   "pygments_lexer": "ipython3",
   "version": "3.6.4"
  }
 },
 "nbformat": 4,
 "nbformat_minor": 1
}
