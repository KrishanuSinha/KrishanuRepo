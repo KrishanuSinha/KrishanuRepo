{
 "cells": [
  {
   "cell_type": "code",
   "execution_count": 2,
   "metadata": {},
   "outputs": [],
   "source": [
    "import pandas as pd\n",
    "import numpy as np\n",
    "import matplotlib.pyplot as plt\n",
    "\n",
    "%matplotlib inline"
   ]
  },
  {
   "cell_type": "code",
   "execution_count": 3,
   "metadata": {},
   "outputs": [
    {
     "data": {
      "text/html": [
       "<div>\n",
       "<style scoped>\n",
       "    .dataframe tbody tr th:only-of-type {\n",
       "        vertical-align: middle;\n",
       "    }\n",
       "\n",
       "    .dataframe tbody tr th {\n",
       "        vertical-align: top;\n",
       "    }\n",
       "\n",
       "    .dataframe thead th {\n",
       "        text-align: right;\n",
       "    }\n",
       "</style>\n",
       "<table border=\"1\" class=\"dataframe\">\n",
       "  <thead>\n",
       "    <tr style=\"text-align: right;\">\n",
       "      <th></th>\n",
       "      <th>video_id</th>\n",
       "      <th>trending_date</th>\n",
       "      <th>title_description</th>\n",
       "      <th>channel_title</th>\n",
       "      <th>category_id</th>\n",
       "      <th>publish_time</th>\n",
       "      <th>tags</th>\n",
       "      <th>views</th>\n",
       "      <th>likes</th>\n",
       "      <th>dislikes</th>\n",
       "      <th>comment_count</th>\n",
       "      <th>thumbnail_link</th>\n",
       "      <th>comments_disabled</th>\n",
       "      <th>ratings_disabled</th>\n",
       "      <th>video_error_or_removed</th>\n",
       "      <th>description</th>\n",
       "      <th>title</th>\n",
       "    </tr>\n",
       "  </thead>\n",
       "  <tbody>\n",
       "    <tr>\n",
       "      <th>0</th>\n",
       "      <td>2kyS6SvSYSE</td>\n",
       "      <td>17.14.11</td>\n",
       "      <td>WE WANT TO TALK ABOUT OUR MARRIAGE</td>\n",
       "      <td>CaseyNeistat</td>\n",
       "      <td>22.0</td>\n",
       "      <td>2017-11-13T17:13:01.000Z</td>\n",
       "      <td>SHANtell martin</td>\n",
       "      <td>748374.0</td>\n",
       "      <td>57527.0</td>\n",
       "      <td>2966.0</td>\n",
       "      <td>15954.0</td>\n",
       "      <td>https://i.ytimg.com/vi/2kyS6SvSYSE/default.jpg</td>\n",
       "      <td>False</td>\n",
       "      <td>False</td>\n",
       "      <td>False</td>\n",
       "      <td>SHANTELL'S CHANNEL - https://www.youtube.com/s...</td>\n",
       "      <td>People &amp; Blogs</td>\n",
       "    </tr>\n",
       "    <tr>\n",
       "      <th>1</th>\n",
       "      <td>0mlNzVSJrT0</td>\n",
       "      <td>17.14.11</td>\n",
       "      <td>Me-O Cats Commercial</td>\n",
       "      <td>Nobrand</td>\n",
       "      <td>22.0</td>\n",
       "      <td>2017-04-21T06:47:32.000Z</td>\n",
       "      <td>cute|\"cats\"|\"thai\"|\"eggs\"</td>\n",
       "      <td>98966.0</td>\n",
       "      <td>2486.0</td>\n",
       "      <td>184.0</td>\n",
       "      <td>532.0</td>\n",
       "      <td>https://i.ytimg.com/vi/0mlNzVSJrT0/default.jpg</td>\n",
       "      <td>False</td>\n",
       "      <td>False</td>\n",
       "      <td>False</td>\n",
       "      <td>Kittens come out of the eggs in a Thai commerc...</td>\n",
       "      <td>People &amp; Blogs</td>\n",
       "    </tr>\n",
       "    <tr>\n",
       "      <th>2</th>\n",
       "      <td>STI2fI7sKMo</td>\n",
       "      <td>17.14.11</td>\n",
       "      <td>AFFAIRS, EX BOYFRIENDS, $18MILLION NET WORTH -...</td>\n",
       "      <td>Shawn Johnson East</td>\n",
       "      <td>22.0</td>\n",
       "      <td>2017-11-11T15:00:03.000Z</td>\n",
       "      <td>shawn johnson|\"andrew east\"|\"shawn east\"|\"shaw...</td>\n",
       "      <td>321053.0</td>\n",
       "      <td>4451.0</td>\n",
       "      <td>1772.0</td>\n",
       "      <td>895.0</td>\n",
       "      <td>https://i.ytimg.com/vi/STI2fI7sKMo/default.jpg</td>\n",
       "      <td>False</td>\n",
       "      <td>False</td>\n",
       "      <td>False</td>\n",
       "      <td>Subscribe for weekly videos ▶ http://bit.ly/sj...</td>\n",
       "      <td>People &amp; Blogs</td>\n",
       "    </tr>\n",
       "    <tr>\n",
       "      <th>3</th>\n",
       "      <td>KODzih-pYlU</td>\n",
       "      <td>17.14.11</td>\n",
       "      <td>BLIND(folded) CAKE DECORATING CONTEST (with Mo...</td>\n",
       "      <td>Grace Helbig</td>\n",
       "      <td>22.0</td>\n",
       "      <td>2017-11-11T18:08:04.000Z</td>\n",
       "      <td>itsgrace|\"funny\"|\"comedy\"|\"vlog\"|\"grace\"|\"helb...</td>\n",
       "      <td>197062.0</td>\n",
       "      <td>7250.0</td>\n",
       "      <td>217.0</td>\n",
       "      <td>456.0</td>\n",
       "      <td>https://i.ytimg.com/vi/KODzih-pYlU/default.jpg</td>\n",
       "      <td>False</td>\n",
       "      <td>False</td>\n",
       "      <td>False</td>\n",
       "      <td>Molly is an god damn amazing human and she cha...</td>\n",
       "      <td>People &amp; Blogs</td>\n",
       "    </tr>\n",
       "    <tr>\n",
       "      <th>4</th>\n",
       "      <td>8mhTWqWlQzU</td>\n",
       "      <td>17.14.11</td>\n",
       "      <td>Wearing Online Dollar Store Makeup For A Week</td>\n",
       "      <td>Safiya Nygaard</td>\n",
       "      <td>22.0</td>\n",
       "      <td>2017-11-11T01:19:33.000Z</td>\n",
       "      <td>wearing online dollar store makeup for a week|...</td>\n",
       "      <td>2744430.0</td>\n",
       "      <td>115426.0</td>\n",
       "      <td>1110.0</td>\n",
       "      <td>6541.0</td>\n",
       "      <td>https://i.ytimg.com/vi/8mhTWqWlQzU/default.jpg</td>\n",
       "      <td>False</td>\n",
       "      <td>False</td>\n",
       "      <td>False</td>\n",
       "      <td>I found this online dollar store called ShopMi...</td>\n",
       "      <td>People &amp; Blogs</td>\n",
       "    </tr>\n",
       "  </tbody>\n",
       "</table>\n",
       "</div>"
      ],
      "text/plain": [
       "      video_id trending_date  \\\n",
       "0  2kyS6SvSYSE      17.14.11   \n",
       "1  0mlNzVSJrT0      17.14.11   \n",
       "2  STI2fI7sKMo      17.14.11   \n",
       "3  KODzih-pYlU      17.14.11   \n",
       "4  8mhTWqWlQzU      17.14.11   \n",
       "\n",
       "                                   title_description       channel_title  \\\n",
       "0                 WE WANT TO TALK ABOUT OUR MARRIAGE        CaseyNeistat   \n",
       "1                               Me-O Cats Commercial             Nobrand   \n",
       "2  AFFAIRS, EX BOYFRIENDS, $18MILLION NET WORTH -...  Shawn Johnson East   \n",
       "3  BLIND(folded) CAKE DECORATING CONTEST (with Mo...        Grace Helbig   \n",
       "4      Wearing Online Dollar Store Makeup For A Week      Safiya Nygaard   \n",
       "\n",
       "   category_id              publish_time  \\\n",
       "0         22.0  2017-11-13T17:13:01.000Z   \n",
       "1         22.0  2017-04-21T06:47:32.000Z   \n",
       "2         22.0  2017-11-11T15:00:03.000Z   \n",
       "3         22.0  2017-11-11T18:08:04.000Z   \n",
       "4         22.0  2017-11-11T01:19:33.000Z   \n",
       "\n",
       "                                                tags      views     likes  \\\n",
       "0                                    SHANtell martin   748374.0   57527.0   \n",
       "1                          cute|\"cats\"|\"thai\"|\"eggs\"    98966.0    2486.0   \n",
       "2  shawn johnson|\"andrew east\"|\"shawn east\"|\"shaw...   321053.0    4451.0   \n",
       "3  itsgrace|\"funny\"|\"comedy\"|\"vlog\"|\"grace\"|\"helb...   197062.0    7250.0   \n",
       "4  wearing online dollar store makeup for a week|...  2744430.0  115426.0   \n",
       "\n",
       "   dislikes  comment_count                                  thumbnail_link  \\\n",
       "0    2966.0        15954.0  https://i.ytimg.com/vi/2kyS6SvSYSE/default.jpg   \n",
       "1     184.0          532.0  https://i.ytimg.com/vi/0mlNzVSJrT0/default.jpg   \n",
       "2    1772.0          895.0  https://i.ytimg.com/vi/STI2fI7sKMo/default.jpg   \n",
       "3     217.0          456.0  https://i.ytimg.com/vi/KODzih-pYlU/default.jpg   \n",
       "4    1110.0         6541.0  https://i.ytimg.com/vi/8mhTWqWlQzU/default.jpg   \n",
       "\n",
       "  comments_disabled ratings_disabled video_error_or_removed  \\\n",
       "0             False            False                  False   \n",
       "1             False            False                  False   \n",
       "2             False            False                  False   \n",
       "3             False            False                  False   \n",
       "4             False            False                  False   \n",
       "\n",
       "                                         description           title  \n",
       "0  SHANTELL'S CHANNEL - https://www.youtube.com/s...  People & Blogs  \n",
       "1  Kittens come out of the eggs in a Thai commerc...  People & Blogs  \n",
       "2  Subscribe for weekly videos ▶ http://bit.ly/sj...  People & Blogs  \n",
       "3  Molly is an god damn amazing human and she cha...  People & Blogs  \n",
       "4  I found this online dollar store called ShopMi...  People & Blogs  "
      ]
     },
     "execution_count": 3,
     "metadata": {},
     "output_type": "execute_result"
    }
   ],
   "source": [
    "file_name = 'D:\\\\Springboard_Capstone2\\\\CapstoneDataset\\\\NewData\\\\YouTubeDataSet.csv'\n",
    "df=pd.read_csv(file_name, encoding='utf-8')\n",
    "df = df.dropna()\n",
    "df.head()"
   ]
  },
  {
   "cell_type": "markdown",
   "metadata": {},
   "source": [
    "### We shall plot a Bar Plot of each Numerical Data inorder to determine how much variance is within itself. "
   ]
  },
  {
   "cell_type": "markdown",
   "metadata": {},
   "source": [
    "### Lets first visualize the data with Bar Plot"
   ]
  },
  {
   "cell_type": "code",
   "execution_count": 3,
   "metadata": {},
   "outputs": [
    {
     "name": "stdout",
     "output_type": "stream",
     "text": [
      "Current size: [6.0, 4.0]\n"
     ]
    }
   ],
   "source": [
    "# Get current size\n",
    "fig_size = plt.rcParams[\"figure.figsize\"]\n",
    " \n",
    "# Prints: [8.0, 6.0]\n",
    "print(\"Current size:\", fig_size)\n",
    " \n",
    "# Set figure width to 12 and height to 9\n",
    "fig_size[0] = 6\n",
    "fig_size[1] = 6\n",
    "plt.rcParams[\"figure.figsize\"] = fig_size"
   ]
  },
  {
   "cell_type": "code",
   "execution_count": 4,
   "metadata": {},
   "outputs": [
    {
     "data": {
      "text/plain": [
       "<matplotlib.axes._subplots.AxesSubplot at 0x252ebc7de10>"
      ]
     },
     "execution_count": 4,
     "metadata": {},
     "output_type": "execute_result"
    },
    {
     "data": {
      "image/png": "[encoded data removed]",
      "text/plain": [
       "<matplotlib.figure.Figure at 0x252ebc7d390>"
      ]
     },
     "metadata": {},
     "output_type": "display_data"
    }
   ],
   "source": [
    "df = df.replace(np.nan,0)\n",
    "df_views = df.groupby(['title'])['views'].mean()\n",
    "\n",
    "df_views.plot.bar()"
   ]
  },
  {
   "cell_type": "markdown",
   "metadata": {},
   "source": [
    "##### The number of Views based on category is highly variable as observed from the bar chart."
   ]
  },
  {
   "cell_type": "code",
   "execution_count": 5,
   "metadata": {},
   "outputs": [
    {
     "data": {
      "text/plain": [
       "<matplotlib.axes._subplots.AxesSubplot at 0x252ec398c88>"
      ]
     },
     "execution_count": 5,
     "metadata": {},
     "output_type": "execute_result"
    },
    {
     "data": {
      "image/png": "[encoded data removed]",
      "text/plain": [
       "<matplotlib.figure.Figure at 0x252ebde1080>"
      ]
     },
     "metadata": {},
     "output_type": "display_data"
    }
   ],
   "source": [
    "df_likes = df.groupby(['title'])['likes'].mean()\n",
    "\n",
    "df_likes.plot.bar()"
   ]
  },
  {
   "cell_type": "markdown",
   "metadata": {},
   "source": [
    "##### The number of Likes a Video recieves, based on category is highly variable as observed from the bar chart."
   ]
  },
  {
   "cell_type": "code",
   "execution_count": 6,
   "metadata": {},
   "outputs": [
    {
     "data": {
      "text/plain": [
       "<matplotlib.axes._subplots.AxesSubplot at 0x252ec3b1198>"
      ]
     },
     "execution_count": 6,
     "metadata": {},
     "output_type": "execute_result"
    },
    {
     "data": {
      "image/png": "[encoded data removed]",
      "text/plain": [
       "<matplotlib.figure.Figure at 0x252ec3fb748>"
      ]
     },
     "metadata": {},
     "output_type": "display_data"
    }
   ],
   "source": [
    "df_dislikes = df.groupby(['title'])['dislikes'].mean()\n",
    "\n",
    "df_dislikes.plot.bar()"
   ]
  },
  {
   "cell_type": "markdown",
   "metadata": {},
   "source": [
    "##### The number of Dislikes a Video recieves, based on category is highly variable as observed from the bar chart."
   ]
  },
  {
   "cell_type": "code",
   "execution_count": 7,
   "metadata": {},
   "outputs": [
    {
     "data": {
      "text/plain": [
       "<matplotlib.axes._subplots.AxesSubplot at 0x252ec473eb8>"
      ]
     },
     "execution_count": 7,
     "metadata": {},
     "output_type": "execute_result"
    },
    {
     "data": {
      "image/png": "[encoded data removed]",
      "text/plain": [
       "<matplotlib.figure.Figure at 0x252ec49f438>"
      ]
     },
     "metadata": {},
     "output_type": "display_data"
    }
   ],
   "source": [
    "df_comment_count = df.groupby(['title'])['comment_count'].mean()\n",
    "\n",
    "df_comment_count.plot.bar()"
   ]
  },
  {
   "cell_type": "markdown",
   "metadata": {},
   "source": [
    "##### The number of Comments a Video recieves, based on category is highly variable as observed from the bar chart."
   ]
  },
  {
   "cell_type": "markdown",
   "metadata": {},
   "source": [
    "### Overall visually we have observed that there is high variability within the Numerical Features of the dataset. "
   ]
  },
  {
   "cell_type": "markdown",
   "metadata": {},
   "source": [
    "## Running Annova One way:"
   ]
  },
  {
   "cell_type": "markdown",
   "metadata": {},
   "source": [
    "##### Null Hypothesis (H0): The mean of all the groups are almost the same."
   ]
  },
  {
   "cell_type": "code",
   "execution_count": 8,
   "metadata": {},
   "outputs": [],
   "source": [
    "from statsmodels.stats.multicomp import pairwise_tukeyhsd\n",
    "from statsmodels.stats.multicomp import MultiComparison"
   ]
  },
  {
   "cell_type": "code",
   "execution_count": 9,
   "metadata": {},
   "outputs": [],
   "source": [
    "from scipy import stats\n",
    "f_value, p_value = stats.f_oneway(df['views'], df['likes'], df['dislikes'],df['comment_count'])"
   ]
  },
  {
   "cell_type": "code",
   "execution_count": 10,
   "metadata": {},
   "outputs": [
    {
     "data": {
      "text/plain": [
       "(3996.3993559589894, 0.0)"
      ]
     },
     "execution_count": 10,
     "metadata": {},
     "output_type": "execute_result"
    }
   ],
   "source": [
    "f_value, p_value"
   ]
  },
  {
   "cell_type": "markdown",
   "metadata": {},
   "source": [
    "#### Since the p-value is less than 0.05, we reject the null hypothesis that there's no difference between the means and conclude that a significant difference does exist."
   ]
  },
  {
   "cell_type": "markdown",
   "metadata": {},
   "source": [
    "## TUKEY HSD TEST"
   ]
  },
  {
   "cell_type": "code",
   "execution_count": 4,
   "metadata": {},
   "outputs": [],
   "source": [
    "Statistics = df[['views','likes', 'dislikes','comment_count']]"
   ]
  },
  {
   "cell_type": "code",
   "execution_count": 5,
   "metadata": {},
   "outputs": [
    {
     "name": "stdout",
     "output_type": "stream",
     "text": [
      "                     Multiple Comparison of Means - Tukey HSD,FWER=0.05                     \n",
      "============================================================================================\n",
      "        group1                group2           meandiff       lower         upper     reject\n",
      "--------------------------------------------------------------------------------------------\n",
      "   Autos & Vehicles           Comedy         110649.9406   -1228391.869  1449691.7502 False \n",
      "   Autos & Vehicles         Education        -654491.1955  -2064311.445   755329.054  False \n",
      "   Autos & Vehicles       Entertainment      699841.9038   -595221.5191  1994905.3267 False \n",
      "   Autos & Vehicles      Film & Animation    1738953.4462  369132.3863   3108774.506   True \n",
      "   Autos & Vehicles           Gaming         1301061.9539  -244448.1651  2846572.0729 False \n",
      "   Autos & Vehicles       Howto & Style      -386700.9954 -1714472.7351  941070.7443  False \n",
      "   Autos & Vehicles           Music          4839903.8557  3532240.8729  6147566.8385  True \n",
      "   Autos & Vehicles      News & Politics     -772421.6453 -2139505.4816  594662.1911  False \n",
      "   Autos & Vehicles   Nonprofits & Activism  1794114.3055 -1833917.6393  5422146.2503 False \n",
      "   Autos & Vehicles       People & Blogs     155732.1863  -1191413.9822  1502878.3548 False \n",
      "   Autos & Vehicles       Pets & Animals     -538585.7809 -2049550.4562  972378.8945  False \n",
      "   Autos & Vehicles    Science & Technology   8840.3425   -1360131.2987  1377811.9836 False \n",
      "   Autos & Vehicles           Shows          -469758.8329 -3984335.1689  3044817.5031 False \n",
      "   Autos & Vehicles           Sports         668165.2076   -714571.3774  2050901.7926 False \n",
      "   Autos & Vehicles      Travel & Events     -518666.5543 -2289915.7015  1252582.5929 False \n",
      "        Comedy              Education        -765141.1361 -1507374.3822   -22907.89    True \n",
      "        Comedy            Entertainment      589191.9632    98777.5211   1079606.4054  True \n",
      "        Comedy           Film & Animation    1628303.5056  965184.5179   2291422.4932  True \n",
      "        Comedy                Gaming         1190412.0133  214748.8626   2166075.1639  True \n",
      "        Comedy            Howto & Style      -497350.936  -1068573.1769   73871.3049  False \n",
      "        Comedy                Music          4729253.9151  4206473.3375  5252034.4927  True \n",
      "        Comedy           News & Politics     -883071.5859 -1540517.6075  -225625.5643  True \n",
      "        Comedy        Nonprofits & Activism  1683464.3649  -1740850.581  5107779.3107 False \n",
      "        Comedy            People & Blogs      45082.2457   -569832.2647   659996.756  False \n",
      "        Comedy            Pets & Animals     -649235.7215 -1569198.3869   270726.944  False \n",
      "        Comedy         Science & Technology  -101809.5982  -763172.1387  559552.9424  False \n",
      "        Comedy                Shows          -580408.7735 -3884279.8178  2723462.2708 False \n",
      "        Comedy                Sports         557515.2669   -131888.4748  1246919.0087 False \n",
      "        Comedy           Travel & Events     -629316.4949 -1933402.6106  674769.6208  False \n",
      "      Education           Entertainment      1354333.0993   694737.395   2013928.8036  True \n",
      "      Education          Film & Animation    2393444.6416  1597023.2959  3189865.9873  True \n",
      "      Education               Gaming         1955553.1493   884815.669   3026290.6296  True \n",
      "      Education           Howto & Style      267790.2001   -453912.6588   989493.059  False \n",
      "      Education               Music          5494395.0511  4810392.3462  6178397.7561  True \n",
      "      Education          News & Politics     -117930.4498  -909634.5861  673773.6865  False \n",
      "      Education       Nonprofits & Activism  2448605.5009 -1004001.1978  5901212.1997 False \n",
      "      Education           People & Blogs     810223.3817    53467.1309   1566979.6326  True \n",
      "      Education           Pets & Animals     115905.4146   -904335.4755  1136146.3047 False \n",
      "      Education        Science & Technology  663331.5379   -131627.9442   1458291.02  False \n",
      "      Education               Shows          184732.3626  -3148452.9076  3517917.6328 False \n",
      "      Education               Sports         1322656.403   504220.2801   2141092.5259  True \n",
      "      Education          Travel & Events     135824.6412  -1240838.2679  1512487.5503 False \n",
      "    Entertainment        Film & Animation    1039111.5423  470004.2648   1608218.8199  True \n",
      "    Entertainment             Gaming          601220.05    -313151.2559  1515591.356  False \n",
      "    Entertainment         Howto & Style     -1086542.8992 -1545292.4496  -627793.3488  True \n",
      "    Entertainment             Music          4140061.9518  3743254.9032  4536869.0005  True \n",
      "    Entertainment        News & Politics    -1472263.5491 -2034750.5026  -909776.5956  True \n",
      "    Entertainment     Nonprofits & Activism  1094272.4016 -2313085.6878  4501630.4911 False \n",
      "    Entertainment         People & Blogs     -544109.7176 -1056238.7605  -31980.6746   True \n",
      "    Entertainment         Pets & Animals    -1238427.6847 -2093113.3622  -383742.0072  True \n",
      "    Entertainment      Science & Technology  -691001.5614 -1258061.2686  -123941.8541  True \n",
      "    Entertainment             Shows         -1169600.7367 -4455893.5081  2116692.0346 False \n",
      "    Entertainment             Sports         -31676.6963   -631204.6946   567851.302  False \n",
      "    Entertainment        Travel & Events    -1218508.4581 -2477395.6249   40378.7087  False \n",
      "   Film & Animation           Gaming         -437891.4923  -1455386.137  579603.1524  False \n",
      "   Film & Animation       Howto & Style     -2125654.4415 -2765710.3897 -1485598.4934  True \n",
      "   Film & Animation           Music          3100950.4095  2503726.5816  3698174.2374  True \n",
      "   Film & Animation      News & Politics    -2511375.0914 -3229436.3978 -1793313.7851  True \n",
      "   Film & Animation   Nonprofits & Activism   55160.8593  -3381306.7481  3491628.4667 False \n",
      "   Film & Animation       People & Blogs    -1583221.2599 -2262556.6876  -903885.8322  True \n",
      "   Film & Animation       Pets & Animals     -2277539.227 -3241752.9347 -1313325.5193  True \n",
      "   Film & Animation    Science & Technology -1730113.1037 -2451762.0338 -1008464.1736  True \n",
      "   Film & Animation           Shows         -2208712.2791 -5525177.3619  1107752.8038 False \n",
      "   Film & Animation           Sports        -1070788.2386 -1818220.0332  -323356.4441  True \n",
      "   Film & Animation      Travel & Events    -2257620.0005 -3593291.1297  -921948.8712  True \n",
      "        Gaming            Howto & Style     -1687762.9492 -2647900.1314  -727625.7671  True \n",
      "        Gaming                Music          3538841.9018  2606710.9601  4470972.8435  True \n",
      "        Gaming           News & Politics    -2073483.5991 -3087290.2037 -1059676.9946  True \n",
      "        Gaming        Nonprofits & Activism  493052.3516  -3017147.2736  4003251.9768 False \n",
      "        Gaming            People & Blogs    -1145329.7676 -2132086.2802  -158573.255   True \n",
      "        Gaming            Pets & Animals    -1839647.7347 -3040439.0846  -638856.3849  True \n",
      "        Gaming         Science & Technology -1292221.6114  -2308572.422  -275870.8009  True \n",
      "        Gaming                Shows         -1770820.7868 -5163626.7696  1621985.1961 False \n",
      "        Gaming                Sports         -632896.7463 -1667713.6766   401920.184  False \n",
      "        Gaming           Travel & Events    -1819728.5082 -3335053.2777  -304403.7386  True \n",
      "    Howto & Style             Music          5226604.8511  4733406.7597  5719802.9424  True \n",
      "    Howto & Style        News & Politics     -385720.6499 -1019897.3574  248456.0576  False \n",
      "    Howto & Style     Nonprofits & Activism  2180815.3008 -1239108.3348  5600738.9364 False \n",
      "    Howto & Style         People & Blogs     542433.1816   -47536.8854   1132403.2487 False \n",
      "    Howto & Style         Pets & Animals     -151884.7855 -1055364.7968  751595.2258  False \n",
      "    Howto & Style      Science & Technology  395541.3378   -242694.6961  1033777.3717 False \n",
      "    Howto & Style             Shows          -83057.8375  -3382377.2677  3216261.5926 False \n",
      "    Howto & Style             Sports         1054866.2029  387616.3665   1722116.0393  True \n",
      "    Howto & Style        Travel & Events     -131965.5589  -1424476.844  1160545.7262 False \n",
      "        Music            News & Politics     -5612325.501 -6203244.0911 -5021406.9108  True \n",
      "        Music         Nonprofits & Activism -3045789.5502 -6457956.3628  366377.2624  False \n",
      "        Music             People & Blogs    -4684171.6694 -5227374.5448  -4140968.794  True \n",
      "        Music             Pets & Animals    -5378489.6365 -6252149.0751  -4504830.198  True \n",
      "        Music          Science & Technology -4831063.5132 -5426336.4917 -4235790.5348  True \n",
      "        Music                 Shows         -5309662.6886 -8600941.0703 -2018384.3068  True \n",
      "        Music                 Sports        -4171738.6481 -4798018.9592 -3545458.3371  True \n",
      "        Music            Travel & Events     -5358570.41   -6630415.568  -4086725.252  True \n",
      "   News & Politics    Nonprofits & Activism  2566535.9507  -868841.4807  6001913.3821 False \n",
      "   News & Politics        People & Blogs     928153.8315   254354.8238   1601952.8393  True \n",
      "   News & Politics        Pets & Animals     233835.8644   -726485.2036  1194156.9324 False \n",
      "   News & Politics     Science & Technology  781261.9877    64822.4174   1497701.558   True \n",
      "   News & Politics            Shows          302662.8124  -3012672.6345  3617998.2592 False \n",
      "   News & Politics            Sports         1440586.8528  698183.4806   2182990.225   True \n",
      "   News & Politics       Travel & Events      253755.091  -1079108.6849  1586618.8668 False \n",
      "Nonprofits & Activism     People & Blogs    -1638382.1192 -5065874.3044  1789110.066  False \n",
      "Nonprofits & Activism     Pets & Animals    -2332700.0863 -5827827.2844  1162427.1117 False \n",
      "Nonprofits & Activism  Science & Technology  -1785273.963 -5221403.0693  1650855.1432 False \n",
      "Nonprofits & Activism         Shows         -2263873.1384 -6984587.7773  2456841.5006 False \n",
      "Nonprofits & Activism         Sports        -1125949.0979 -4567585.3867  2315687.1908 False \n",
      "Nonprofits & Activism    Travel & Events    -2312780.8598 -5928057.2561  1302495.5366 False \n",
      "    People & Blogs        Pets & Animals     -694317.9671 -1626037.4192  237401.4849  False \n",
      "    People & Blogs     Science & Technology  -146891.8438   -824512.86   530729.1724  False \n",
      "    People & Blogs            Shows          -625491.0192  -3932655.017  2681672.9787 False \n",
      "    People & Blogs            Sports         512433.0213   -192582.8301  1217448.8727 False \n",
      "    People & Blogs       Travel & Events     -674398.7406  -1986805.091  638007.6099  False \n",
      "    Pets & Animals     Science & Technology  547426.1233   -415580.4667  1510432.7133 False \n",
      "    Pets & Animals            Shows           68826.948   -3308382.7227  3446036.6186 False \n",
      "    Pets & Animals            Sports         1206750.9884  224275.1355   2189226.8413  True \n",
      "    Pets & Animals       Travel & Events      19919.2266  -1460155.7308  1499994.1839 False \n",
      " Science & Technology         Shows          -478599.1753 -3794713.5075  2837515.1568 False \n",
      " Science & Technology         Sports         659324.8651   -86549.0557   1405198.7859 False \n",
      " Science & Technology    Travel & Events     -527506.8967 -1862306.8757  807293.0822  False \n",
      "        Shows                 Sports         1137924.0405 -2183896.4503  4459744.5312 False \n",
      "        Shows            Travel & Events     -48907.7214  -3550315.2171  3452499.7743 False \n",
      "        Sports           Travel & Events    -1186831.7618 -2535745.4332  162081.9095  False \n",
      "--------------------------------------------------------------------------------------------\n"
     ]
    }
   ],
   "source": [
    "from statsmodels.stats.multicomp import pairwise_tukeyhsd\n",
    "print(pairwise_tukeyhsd(df['views'], df['title']))"
   ]
  },
  {
   "cell_type": "code",
   "execution_count": 6,
   "metadata": {},
   "outputs": [
    {
     "name": "stdout",
     "output_type": "stream",
     "text": [
      "                    Multiple Comparison of Means - Tukey HSD,FWER=0.05                   \n",
      "=========================================================================================\n",
      "        group1                group2          meandiff      lower        upper     reject\n",
      "-----------------------------------------------------------------------------------------\n",
      "   Autos & Vehicles           Comedy         51528.2355   10661.813    92394.6581   True \n",
      "   Autos & Vehicles         Education        18798.1632  -24228.3574   61824.6839  False \n",
      "   Autos & Vehicles       Entertainment      41879.398    2355.1586    81403.6375   True \n",
      "   Autos & Vehicles      Film & Animation    59731.3352   17925.556   101537.1144   True \n",
      "   Autos & Vehicles           Gaming         74945.2841   27777.6235  122112.9447   True \n",
      "   Autos & Vehicles       Howto & Style      28207.1475  -12315.3221   68729.6171  False \n",
      "   Autos & Vehicles           Music         207814.1485  167905.3811  247722.9158   True \n",
      "   Autos & Vehicles      News & Politics     -3821.5556   -45543.797   37900.6859  False \n",
      "   Autos & Vehicles   Nonprofits & Activism 268074.2812  157349.8172  378798.7451   True \n",
      "   Autos & Vehicles       People & Blogs     47770.9392   6657.1784    88884.6999   True \n",
      "   Autos & Vehicles       Pets & Animals      9946.646   -36166.7169   56060.0089  False \n",
      "   Autos & Vehicles    Science & Technology  22271.6419  -19508.2138   64051.4976  False \n",
      "   Autos & Vehicles           Shows          7793.6271   -99468.2677  115055.5219  False \n",
      "   Autos & Vehicles           Sports         34998.0959   -7201.8543   77198.046   False \n",
      "   Autos & Vehicles      Travel & Events      830.4231   -53226.6016   54887.4478  False \n",
      "        Comedy              Education       -32730.0723  -55382.4027  -10077.7419   True \n",
      "        Comedy            Entertainment      -9648.8375  -24615.8711   5318.1962   False \n",
      "        Comedy           Film & Animation    8203.0997   -12034.7305   28440.9299  False \n",
      "        Comedy                Gaming         23417.0485   -6359.365    53193.462   False \n",
      "        Comedy            Howto & Style      -23321.088  -40754.3073   -5887.8688   True \n",
      "        Comedy                Music          156285.913  140331.0922  172240.7337   True \n",
      "        Comedy           News & Politics    -55349.7911  -75414.4872   -35285.095   True \n",
      "        Comedy        Nonprofits & Activism 216546.0456  112038.8521  321053.2392   True \n",
      "        Comedy            People & Blogs     -3757.2963  -22523.9667   15009.374   False \n",
      "        Comedy            Pets & Animals    -41581.5895  -69658.0713  -13505.1077   True \n",
      "        Comedy         Science & Technology -29256.5936  -49440.8185   -9072.3687   True \n",
      "        Comedy                Shows         -43734.6084  -144565.9561  57096.7392  False \n",
      "        Comedy                Sports        -16530.1397  -37570.1583    4509.879   False \n",
      "        Comedy           Travel & Events    -50697.8124  -90497.4168   -10898.208   True \n",
      "      Education           Entertainment      23081.2348   2950.9323    43211.5374   True \n",
      "      Education          Film & Animation    40933.172    16627.0667   65239.2773   True \n",
      "      Education               Gaming         56147.1208   23469.1193   88825.1224   True \n",
      "      Education           Howto & Style      9408.9843   -12616.7761   31434.7446  False \n",
      "      Education               Music         189015.9853  168140.8017  209891.1688   True \n",
      "      Education          News & Politics    -22619.7188  -46781.8589   1542.4213   False \n",
      "      Education       Nonprofits & Activism  249276.118   143905.484  354646.7519   True \n",
      "      Education           People & Blogs     28972.776    5877.2158    52068.3362   True \n",
      "      Education           Pets & Animals     -8851.5172  -39988.4056   22285.3712  False \n",
      "      Education        Science & Technology  3473.4787   -20788.0118   27734.9692  False \n",
      "      Education               Shows         -11004.5361  -112730.5291  90721.4569  False \n",
      "      Education               Sports         16199.9326   -8778.0451   41177.9103  False \n",
      "      Education          Travel & Events    -17967.7401  -59982.3268   24046.8466  False \n",
      "    Entertainment        Film & Animation    17851.9372    483.2648    35220.6095   True \n",
      "    Entertainment             Gaming         33065.886    5160.0478    60971.7243   True \n",
      "    Entertainment         Howto & Style     -13672.2505  -27672.8985    328.3974   False \n",
      "    Entertainment             Music         165934.7504  153824.5352  178044.9657   True \n",
      "    Entertainment        News & Politics    -45700.9536  -62867.5793  -28534.3279   True \n",
      "    Entertainment     Nonprofits & Activism 226194.8831  122205.1985  330184.5678   True \n",
      "    Entertainment         People & Blogs     5891.5411    -9738.2037   21521.286   False \n",
      "    Entertainment         Pets & Animals     -31932.752  -58017.0354   -5848.4686   True \n",
      "    Entertainment      Science & Technology -19607.7561  -36913.9384   -2301.5739   True \n",
      "    Entertainment             Shows          -34085.771  -134380.6446  66209.1027  False \n",
      "    Entertainment             Sports         -6881.3022  -25178.3892   11415.7848  False \n",
      "    Entertainment        Travel & Events    -41048.9749  -79469.1457   -2628.8042   True \n",
      "   Film & Animation           Gaming         15213.9489  -15839.1264   46267.0241  False \n",
      "   Film & Animation       Howto & Style     -31524.1877  -51058.1535   -11990.222   True \n",
      "   Film & Animation           Music         148082.8133  129856.0476   166309.579   True \n",
      "   Film & Animation      News & Politics    -63552.8908   -85467.514  -41638.2675   True \n",
      "   Film & Animation   Nonprofits & Activism  208342.946  103464.8635  313221.0285   True \n",
      "   Film & Animation       People & Blogs     -11960.396  -32693.1382   8772.3462   False \n",
      "   Film & Animation       Pets & Animals    -49784.6892  -79211.6754   -20357.703   True \n",
      "   Film & Animation    Science & Technology -37459.6933  -59483.8078  -15435.5788   True \n",
      "   Film & Animation           Shows         -51937.7081  -153153.4152  49277.9989  False \n",
      "   Film & Animation           Sports        -24733.2393   -47544.225   -1922.2537   True \n",
      "   Film & Animation      Travel & Events    -58900.9121  -99664.4644  -18137.3598   True \n",
      "        Gaming            Howto & Style     -46738.1366  -76040.7106  -17435.5625   True \n",
      "        Gaming                Music         132868.8644  104421.0171  161316.7117   True \n",
      "        Gaming           News & Politics    -78766.8396  -109707.359  -47826.3202   True \n",
      "        Gaming        Nonprofits & Activism 193128.9971   86000.6758  300257.3184   True \n",
      "        Gaming            People & Blogs    -27174.3449  -57289.3184   2940.6286   False \n",
      "        Gaming            Pets & Animals    -64998.6381  -101645.7736 -28351.5025   True \n",
      "        Gaming         Science & Technology -52673.6422  -83691.8086  -21655.4757   True \n",
      "        Gaming                Shows          -67151.657  -170697.2237  36393.9097  False \n",
      "        Gaming                Sports        -39947.1882   -71528.925   -8365.4514   True \n",
      "        Gaming           Travel & Events     -74114.861  -120361.2902 -27868.4317   True \n",
      "    Howto & Style             Music          179607.001  164555.0127  194658.9893   True \n",
      "    Howto & Style        News & Politics    -32028.7031  -51383.2394  -12674.1668   True \n",
      "    Howto & Style     Nonprofits & Activism 239867.1337  135493.9592  344240.3082   True \n",
      "    Howto & Style         People & Blogs     19563.7917   1558.4046    37569.1787   True \n",
      "    Howto & Style         Pets & Animals    -18260.5015  -45833.9467   9312.9437   False \n",
      "    Howto & Style      Science & Technology  -5935.5056  -25413.9291   13542.9179  False \n",
      "    Howto & Style             Shows         -20413.5204  -121105.9566  80278.9158  False \n",
      "    Howto & Style             Sports         6790.9484   -13572.9518   27154.8486  False \n",
      "    Howto & Style        Travel & Events    -27376.7244  -66823.0747   12069.626   False \n",
      "        Music            News & Politics    -211635.704  -229670.0392 -193601.3689  True \n",
      "        Music         Nonprofits & Activism  60260.1327  -43876.3101  164396.5755  False \n",
      "        Music             People & Blogs    -160043.2093 -176621.3013 -143465.1173  True \n",
      "        Music             Pets & Animals    -197867.5025 -224530.849  -171204.1559  True \n",
      "        Music          Science & Technology -185542.5066 -203709.734  -167375.2792  True \n",
      "        Music                 Shows         -200020.5214 -300467.5516 -99573.4912   True \n",
      "        Music                 Sports        -172816.0526 -191929.5976 -153702.5077  True \n",
      "        Music            Travel & Events    -206983.7254 -245799.363  -168168.0877  True \n",
      "   News & Politics    Nonprofits & Activism 271895.8367  167051.0255   376740.648   True \n",
      "   News & Politics        People & Blogs     51592.4947   31028.7194   72156.2701   True \n",
      "   News & Politics        Pets & Animals     13768.2016  -15539.9845   43076.3877  False \n",
      "   News & Politics     Science & Technology  26093.1975   4228.0682    47958.3267   True \n",
      "   News & Politics            Shows          11615.1826  -89566.0489  112796.4142  False \n",
      "   News & Politics            Sports         38819.6514   16162.1289   61477.1739   True \n",
      "   News & Politics       Travel & Events     4651.9787   -36025.8955   45329.8529  False \n",
      "Nonprofits & Activism     People & Blogs    -220303.342  -324907.5022 -115699.1818  True \n",
      "Nonprofits & Activism     Pets & Animals    -258127.6352 -364795.9587 -151459.3116  True \n",
      "Nonprofits & Activism  Science & Technology -245802.6393 -350670.391  -140934.8875  True \n",
      "Nonprofits & Activism         Shows         -260280.6541 -404352.8689 -116208.4393  True \n",
      "Nonprofits & Activism         Sports        -233076.1853 -338112.0116 -128040.359   True \n",
      "Nonprofits & Activism    Travel & Events    -267243.8581 -377579.0335 -156908.6827  True \n",
      "    People & Blogs        Pets & Animals    -37824.2932  -66259.5822   -9389.0042   True \n",
      "    People & Blogs     Science & Technology -25499.2973  -46179.7171   -4818.8774   True \n",
      "    People & Blogs            Shows         -39977.3121  -140909.1579  60954.5337  False \n",
      "    People & Blogs            Sports        -12772.8433  -34289.3303   8743.6437   False \n",
      "    People & Blogs       Travel & Events    -46940.5161   -86994.047   -6886.9852   True \n",
      "    Pets & Animals     Science & Technology  12324.9959  -17065.1501   41715.1419  False \n",
      "    Pets & Animals            Shows          -2153.0189  -105222.5994 100916.5615  False \n",
      "    Pets & Animals            Sports         25051.4498   -4932.8815   55035.7812  False \n",
      "    Pets & Animals       Travel & Events     -9116.2229  -54286.8578   36054.412   False \n",
      " Science & Technology         Shows         -14478.0148  -115683.0172  86726.9876  False \n",
      " Science & Technology         Sports         12726.4539  -10036.9868   35489.8946  False \n",
      " Science & Technology    Travel & Events    -21441.2188  -62178.1843   19295.7467  False \n",
      "        Shows                 Sports         27204.4688  -74174.6808  128583.6183  False \n",
      "        Shows            Travel & Events     -6963.204   -113823.1969  99896.7889  False \n",
      "        Sports           Travel & Events    -34167.6728  -75335.3762   7000.0307   False \n",
      "-----------------------------------------------------------------------------------------\n"
     ]
    }
   ],
   "source": [
    "print(pairwise_tukeyhsd(df['likes'], df['title']))"
   ]
  },
  {
   "cell_type": "code",
   "execution_count": 7,
   "metadata": {},
   "outputs": [
    {
     "name": "stdout",
     "output_type": "stream",
     "text": [
      "                  Multiple Comparison of Means - Tukey HSD,FWER=0.05                  \n",
      "======================================================================================\n",
      "        group1                group2          meandiff     lower       upper    reject\n",
      "--------------------------------------------------------------------------------------\n",
      "   Autos & Vehicles           Comedy         1458.1154   -2802.137   5718.3677  False \n",
      "   Autos & Vehicles         Education         182.4427   -4302.996   4667.8815  False \n",
      "   Autos & Vehicles       Entertainment      2790.8224   -1329.5097  6911.1545  False \n",
      "   Autos & Vehicles      Film & Animation    1954.9125   -2403.2661  6313.0911  False \n",
      "   Autos & Vehicles           Gaming         10918.1177  6000.9725   15835.263   True \n",
      "   Autos & Vehicles       Howto & Style       683.3629   -3541.0329  4907.7587  False \n",
      "   Autos & Vehicles           Music          7289.1573   3128.7389   11449.5758  True \n",
      "   Autos & Vehicles      News & Politics      996.843    -3352.6269  5346.3129  False \n",
      "   Autos & Vehicles   Nonprofits & Activism  61761.5289  50218.6993  73304.3586  True \n",
      "   Autos & Vehicles       People & Blogs     2536.8493   -1749.1876  6822.8862  False \n",
      "   Autos & Vehicles       Pets & Animals      -65.1681   -4872.4047  4742.0685  False \n",
      "   Autos & Vehicles    Science & Technology  1234.3224   -3121.1537  5589.7985  False \n",
      "   Autos & Vehicles           Shows          -210.9401   -11392.803  10970.9228 False \n",
      "   Autos & Vehicles           Sports         1785.0125   -2614.2577  6184.2827  False \n",
      "   Autos & Vehicles      Travel & Events      205.9283   -5429.4209  5841.2776  False \n",
      "        Comedy              Education        -1275.6726  -3637.138   1085.7928  False \n",
      "        Comedy            Entertainment       1332.707   -227.5798   2892.9938  False \n",
      "        Comedy           Film & Animation     496.7971   -1612.9609  2606.5552  False \n",
      "        Comedy                Gaming         9460.0024   6355.8639   12564.1409  True \n",
      "        Comedy            Howto & Style      -774.7525   -2592.1348  1042.6298  False \n",
      "        Comedy                Music          5831.0419   4167.7801   7494.3038   True \n",
      "        Comedy           News & Politics     -461.2724   -2552.9814  1630.4367  False \n",
      "        Comedy        Nonprofits & Activism  60303.4136  49408.7234  71198.1038  True \n",
      "        Comedy            People & Blogs      1078.734   -877.6583   3035.1262  False \n",
      "        Comedy            Pets & Animals     -1523.2835  -4450.2071  1403.6401  False \n",
      "        Comedy         Science & Technology  -223.7929   -2327.9627  1880.3768  False \n",
      "        Comedy                Shows          -1669.0555 -12180.5452  8842.4343  False \n",
      "        Comedy                Sports          326.8971   -1866.4877  2520.2819  False \n",
      "        Comedy           Travel & Events     -1252.187   -5401.2255  2896.8514  False \n",
      "      Education           Entertainment      2608.3796    509.8312   4706.9281   True \n",
      "      Education          Film & Animation    1772.4698   -761.3987   4306.3383  False \n",
      "      Education               Gaming         10735.675   7329.0511   14142.2989  True \n",
      "      Education           Howto & Style       500.9202   -1795.2264  2797.0667  False \n",
      "      Education               Music          7106.7146   4930.5136   9282.9156   True \n",
      "      Education          News & Politics      814.4003   -1704.4601  3333.2607  False \n",
      "      Education       Nonprofits & Activism  61579.0862  50594.3839  72563.7885  True \n",
      "      Education           People & Blogs     2354.4066    -53.2647   4762.0779  False \n",
      "      Education           Pets & Animals     -247.6108   -3493.5764  2998.3547  False \n",
      "      Education        Science & Technology  1051.8797   -1477.3378  3581.0972  False \n",
      "      Education               Shows          -393.3828  -10998.1378  10211.3721 False \n",
      "      Education               Sports         1602.5697   -1001.3403  4206.4798  False \n",
      "      Education          Travel & Events      23.4856    -4356.4608   4403.432  False \n",
      "    Entertainment        Film & Animation    -835.9098   -2646.5632   974.7436  False \n",
      "    Entertainment             Gaming         8127.2954   5218.1611   11036.4297  True \n",
      "    Entertainment         Howto & Style      -2107.4595  -3567.0023  -647.9167   True \n",
      "    Entertainment             Music           4498.335   3235.8664   5760.8035   True \n",
      "    Entertainment        News & Politics     -1793.9793  -3583.5697    -4.389    True \n",
      "    Entertainment     Nonprofits & Activism  58970.7066  48129.9658  69811.4474  True \n",
      "    Entertainment         People & Blogs      -253.973   -1883.3463  1375.4002  False \n",
      "    Entertainment         Pets & Animals     -2855.9905  -5575.2309   -136.75    True \n",
      "    Entertainment      Science & Technology  -1556.4999  -3360.6388   247.639   False \n",
      "    Entertainment             Shows          -3001.7625 -13457.3257  7453.8008  False \n",
      "    Entertainment             Sports         -1005.8099  -2913.2489   901.6291  False \n",
      "    Entertainment        Travel & Events     -2584.894   -6590.1289  1420.3409  False \n",
      "   Film & Animation           Gaming         8963.2052    5725.977   12200.4334  True \n",
      "   Film & Animation       Howto & Style      -1271.5496  -3307.931    764.8318  False \n",
      "   Film & Animation           Music          5334.2448   3434.1367   7234.3529   True \n",
      "   Film & Animation      News & Politics     -958.0695   -3242.6302  1326.4912  False \n",
      "   Film & Animation   Nonprofits & Activism  59806.6164  48873.2617  70739.9712  True \n",
      "   Film & Animation       People & Blogs      581.9368   -1579.4149  2743.2885  False \n",
      "   Film & Animation       Pets & Animals     -2020.0806  -5087.7919  1047.6307  False \n",
      "   Film & Animation    Science & Technology  -720.5901   -3016.5651  1575.3849  False \n",
      "   Film & Animation           Shows          -2165.8526 -12717.4112  8385.7059  False \n",
      "   Film & Animation           Sports           -169.9    -2547.905   2208.1049  False \n",
      "   Film & Animation      Travel & Events     -1748.9842  -5998.5125  2500.5441  False \n",
      "        Gaming            Howto & Style     -10234.7548 -13289.4964  -7180.0133  True \n",
      "        Gaming                Music          -3628.9604  -6594.5982  -663.3226   True \n",
      "        Gaming           News & Politics     -9921.2747 -13146.7692  -6695.7803  True \n",
      "        Gaming        Nonprofits & Activism  50843.4112  39675.4731  62011.3493  True \n",
      "        Gaming            People & Blogs     -8381.2684 -11520.7012  -5241.8357  True \n",
      "        Gaming            Pets & Animals    -10983.2859  -14803.685  -7162.8868  True \n",
      "        Gaming         Science & Technology  -9683.7953 -12917.3843  -6450.2063  True \n",
      "        Gaming                Shows         -11129.0578 -21923.5001  -334.6155   True \n",
      "        Gaming                Sports         -9133.1053 -12425.4455  -5840.765   True \n",
      "        Gaming           Travel & Events    -10712.1894 -15533.2979  -5891.0809  True \n",
      "    Howto & Style             Music          6605.7944   5036.6512   8174.9376   True \n",
      "    Howto & Style        News & Politics      313.4801   -1704.1961  2331.1563  False \n",
      "    Howto & Style     Nonprofits & Activism  61078.1661  50197.4471  71958.885   True \n",
      "    Howto & Style         People & Blogs     1853.4864    -23.5434   3730.5162  False \n",
      "    Howto & Style         Pets & Animals      -748.531   -3623.0139  2125.9519  False \n",
      "    Howto & Style      Science & Technology   550.9595   -1479.6317  2581.5508  False \n",
      "    Howto & Style             Shows           -894.303  -11391.3115  9602.7055  False \n",
      "    Howto & Style             Sports         1101.6496   -1021.251   3224.5502  False \n",
      "    Howto & Style        Travel & Events     -477.4346   -4589.6469  3634.7777  False \n",
      "        Music            News & Politics     -6292.3143  -8172.3619  -4412.2667  True \n",
      "        Music         Nonprofits & Activism  54472.3716  43616.3315  65328.4117  True \n",
      "        Music             People & Blogs     -4752.308   -6480.5448  -3024.0712  True \n",
      "        Music             Pets & Animals     -7354.3254 -10133.9322  -4574.7187  True \n",
      "        Music          Science & Technology  -6054.8349  -7948.7362  -4160.9335  True \n",
      "        Music                 Shows          -7500.0974 -17971.5228  2971.3279  False \n",
      "        Music                 Sports         -5504.1448  -7496.6981  -3511.5916  True \n",
      "        Music            Travel & Events     -7083.229  -11129.6906  -3036.7674  True \n",
      "   News & Politics    Nonprofits & Activism  60764.6859  49834.7997  71694.5722  True \n",
      "   News & Politics        People & Blogs     1540.0063   -603.7309   3683.7435  False \n",
      "   News & Politics        Pets & Animals     -1062.0111  -4117.3377  1993.3155  False \n",
      "   News & Politics     Science & Technology   237.4794   -2041.9217  2516.8805  False \n",
      "   News & Politics            Shows          -1207.7831 -11755.7477  9340.1814  False \n",
      "   News & Politics            Sports          788.1694   -1573.8372  3150.1761  False \n",
      "   News & Politics       Travel & Events     -790.9147   -5031.5112  3449.6818  False \n",
      "Nonprofits & Activism     People & Blogs    -59224.6796 -70129.4784 -48319.8808  True \n",
      "Nonprofits & Activism     Pets & Animals    -61826.6971 -72946.6812 -50706.7129  True \n",
      "Nonprofits & Activism  Science & Technology -60527.2065 -71459.4843 -49594.9288  True \n",
      "Nonprofits & Activism         Shows          -61972.469 -76991.7428 -46953.1953  True \n",
      "Nonprofits & Activism         Sports        -59976.5165 -70926.3157 -49026.7173  True \n",
      "Nonprofits & Activism    Travel & Events    -61555.6006 -73057.8476 -50053.3536  True \n",
      "    People & Blogs        Pets & Animals     -2602.0174  -5566.346    362.3112  False \n",
      "    People & Blogs     Science & Technology  -1302.5269  -3458.4241   853.3703  False \n",
      "    People & Blogs            Shows          -2747.7894 -13269.7559  7774.1771  False \n",
      "    People & Blogs            Sports         -751.8369   -2994.8926  1491.2189  False \n",
      "    People & Blogs       Travel & Events     -2330.921   -6506.4308  1844.5888  False \n",
      "    Pets & Animals     Science & Technology  1299.4905   -1764.3802  4363.3613  False \n",
      "    Pets & Animals            Shows           -145.772  -10890.5936  10599.0496 False \n",
      "    Pets & Animals            Sports         1850.1806   -1275.633   4975.9941  False \n",
      "    Pets & Animals       Travel & Events      271.0964   -4437.8624  4980.0553  False \n",
      " Science & Technology         Shows          -1445.2625 -11995.7051  9105.1801  False \n",
      " Science & Technology         Sports           550.69    -1822.3584  2923.7385  False \n",
      " Science & Technology    Travel & Events     -1028.3941  -5275.1508  3218.3625  False \n",
      "        Shows                 Sports         1995.9526   -8572.6446  12564.5497 False \n",
      "        Shows            Travel & Events      416.8684   -10723.097  11556.8338 False \n",
      "        Sports           Travel & Events     -1579.0841  -5870.7445  2712.5762  False \n",
      "--------------------------------------------------------------------------------------\n"
     ]
    }
   ],
   "source": [
    "print(pairwise_tukeyhsd(df['dislikes'], df['title']))"
   ]
  },
  {
   "cell_type": "code",
   "execution_count": 8,
   "metadata": {},
   "outputs": [
    {
     "name": "stdout",
     "output_type": "stream",
     "text": [
      "                   Multiple Comparison of Means - Tukey HSD,FWER=0.05                  \n",
      "=======================================================================================\n",
      "        group1                group2          meandiff     lower        upper    reject\n",
      "---------------------------------------------------------------------------------------\n",
      "   Autos & Vehicles           Comedy         4452.1161   -1816.6771   10720.9093 False \n",
      "   Autos & Vehicles         Education        1244.5734   -5355.5727   7844.7195  False \n",
      "   Autos & Vehicles       Entertainment       4569.714   -1493.1921   10632.6201 False \n",
      "   Autos & Vehicles      Film & Animation    5573.7604   -839.1275    11986.6482 False \n",
      "   Autos & Vehicles           Gaming         16408.0324  9172.6472    23643.4176  True \n",
      "   Autos & Vehicles       Howto & Style      3530.8105   -2685.2213   9746.8423  False \n",
      "   Autos & Vehicles           Music          17303.0271  11181.1354   23424.9187  True \n",
      "   Autos & Vehicles      News & Politics      349.8296   -6050.2438    6749.903  False \n",
      "   Autos & Vehicles   Nonprofits & Activism  88559.8502  71575.0318  105544.6686  True \n",
      "   Autos & Vehicles       People & Blogs     5617.1288   -689.6054    11923.863  False \n",
      "   Autos & Vehicles       Pets & Animals       834.99    -6238.6689    7908.649  False \n",
      "   Autos & Vehicles    Science & Technology  2764.6006   -3644.3107   9173.5119  False \n",
      "   Autos & Vehicles           Shows          -400.9588   -16854.629   16052.7114 False \n",
      "   Autos & Vehicles           Sports         3174.7433   -3298.6093   9648.0958  False \n",
      "   Autos & Vehicles      Travel & Events      197.7622   -8094.4319   8489.9563  False \n",
      "        Comedy              Education        -3207.5427  -6682.3458    267.2605  False \n",
      "        Comedy            Entertainment       117.5979   -2178.3026   2413.4984  False \n",
      "        Comedy           Film & Animation    1121.6443   -1982.7814    4226.07   False \n",
      "        Comedy                Gaming         11955.9163   7388.299    16523.5336  True \n",
      "        Comedy            Howto & Style      -921.3056   -3595.5119   1752.9008  False \n",
      "        Comedy                Music          12850.911   10403.4868   15298.3352  True \n",
      "        Comedy           News & Politics     -4102.2865  -7180.1539   -1024.4191  True \n",
      "        Comedy        Nonprofits & Activism  84107.7341  68076.6273  100138.8409  True \n",
      "        Comedy            People & Blogs     1165.0127   -1713.7412   4043.7667  False \n",
      "        Comedy            Pets & Animals     -3617.1261  -7923.9787    689.7266  False \n",
      "        Comedy         Science & Technology  -1687.5155  -4783.7183   1408.6873  False \n",
      "        Comedy                Shows          -4853.0749 -20320.3174   10614.1676 False \n",
      "        Comedy                Sports         -1277.3728  -4504.8519   1950.1063  False \n",
      "        Comedy           Travel & Events     -4254.3539 -10359.5002   1850.7924  False \n",
      "      Education           Entertainment      3325.1406    237.2093    6413.0718   True \n",
      "      Education          Film & Animation    4329.1869    600.6994    8057.6745   True \n",
      "      Education               Gaming         15163.459   10150.7463   20176.1716  True \n",
      "      Education           Howto & Style      2286.2371   -1092.452    5664.9262  False \n",
      "      Education               Music          16058.4536  12856.2597   19260.6475  True \n",
      "      Education          News & Politics     -894.7438   -4601.1475   2811.6599  False \n",
      "      Education       Nonprofits & Activism  87315.2768  71151.7207  103478.8329  True \n",
      "      Education           People & Blogs     4372.5554    829.762     7915.3488   True \n",
      "      Education           Pets & Animals     -409.5834   -5185.8937   4366.7269  False \n",
      "      Education        Science & Technology  1520.0272   -2201.6166   5241.6709  False \n",
      "      Education               Shows          -1645.5322 -17250.0108   13958.9463 False \n",
      "      Education               Sports         1930.1698   -1901.381    5761.7207  False \n",
      "      Education          Travel & Events     -1046.8112  -7491.7295   5398.1071  False \n",
      "    Entertainment        Film & Animation    1004.0464   -1660.2587   3668.3514  False \n",
      "    Entertainment             Gaming         11838.3184   7557.642    16118.9948  True \n",
      "    Entertainment         Howto & Style      -1038.9035  -3186.5631   1108.7562  False \n",
      "    Entertainment             Music          12733.3131  10875.6404   14590.9857  True \n",
      "    Entertainment        News & Politics     -4219.8844  -6853.1961   -1586.5728  True \n",
      "    Entertainment     Nonprofits & Activism  83990.1362  68038.4138   99941.8586  True \n",
      "    Entertainment         People & Blogs     1047.4148   -1350.1437   3444.9733  False \n",
      "    Entertainment         Pets & Animals     -3734.724   -7735.979     266.5311  False \n",
      "    Entertainment      Science & Technology  -1805.1134  -4459.8326    849.6058  False \n",
      "    Entertainment             Shows          -4970.6728 -20355.6217   10414.2761 False \n",
      "    Entertainment             Sports         -1394.9707  -4201.6919   1411.7505  False \n",
      "    Entertainment        Travel & Events     -4371.9518 -10265.4969   1521.5933  False \n",
      "   Film & Animation           Gaming         10834.272   6070.8184    15597.7256  True \n",
      "   Film & Animation       Howto & Style      -2042.9498  -5039.4047    953.5051  False \n",
      "   Film & Animation           Music          11729.2667  8933.3326    14525.2008  True \n",
      "   Film & Animation      News & Politics     -5223.9308  -8585.5718   -1862.2898  True \n",
      "   Film & Animation   Nonprofits & Activism  82986.0898  66898.0897    99074.09   True \n",
      "   Film & Animation       People & Blogs      43.3685    -3136.9753   3223.7123  False \n",
      "   Film & Animation       Pets & Animals     -4738.7703  -9252.7865   -224.7542   True \n",
      "   Film & Animation    Science & Technology  -2809.1598  -6187.5964    569.2769  False \n",
      "   Film & Animation           Shows          -5974.7192 -21500.9213    9551.483  False \n",
      "   Film & Animation           Sports         -2399.0171  -5898.1576   1100.1233  False \n",
      "   Film & Animation      Travel & Events     -5375.9982 -11629.0114    877.015   False \n",
      "        Gaming            Howto & Style     -12877.2219 -17372.1535   -8382.2902  True \n",
      "        Gaming                Music           894.9947   -3468.8244   5258.8137  False \n",
      "        Gaming           News & Politics    -16058.2028 -20804.3907   -11312.015  True \n",
      "        Gaming        Nonprofits & Activism  72151.8178  55718.6374   88584.9982  True \n",
      "        Gaming            People & Blogs    -10790.9036  -15410.455   -6171.3521  True \n",
      "        Gaming            Pets & Animals    -15573.0424 -21194.6089   -9951.4758  True \n",
      "        Gaming         Science & Technology -13643.4318 -18401.5305   -8885.3331  True \n",
      "        Gaming                Shows         -16808.9912 -32692.5872   -925.3952   True \n",
      "        Gaming                Sports        -13233.2891 -18077.8379   -8388.7404  True \n",
      "        Gaming           Travel & Events    -16210.2702 -23304.3412   -9116.1992  True \n",
      "    Howto & Style             Music          13772.2165  11463.2843   16081.1488  True \n",
      "    Howto & Style        News & Politics     -3180.9809  -6149.9119    -212.05    True \n",
      "    Howto & Style     Nonprofits & Activism  85029.0397  69018.491   101039.5883  True \n",
      "    Howto & Style         People & Blogs     2086.3183    -675.657    4848.2936  False \n",
      "    Howto & Style         Pets & Animals     -2695.8205  -6925.5087   1533.8677  False \n",
      "    Howto & Style      Science & Technology  -766.2099   -3754.1448   2221.7249  False \n",
      "    Howto & Style             Shows          -3931.7693 -19377.7032   11514.1645 False \n",
      "    Howto & Style             Sports         -356.0673   -3479.8317   2767.6972  False \n",
      "    Howto & Style        Travel & Events     -3333.0483  -9384.0065   2717.9098  False \n",
      "        Music            News & Politics    -16953.1975 -19719.6133  -14186.7817  True \n",
      "        Music         Nonprofits & Activism  71256.8231  55282.5884   87231.0578  True \n",
      "        Music             People & Blogs    -11685.8982 -14228.9305   -9142.866   True \n",
      "        Music             Pets & Animals     -16468.037 -20558.1187  -12377.9554  True \n",
      "        Music          Science & Technology -14538.4265 -17325.2276  -11751.6254  True \n",
      "        Music                 Shows         -17703.9859 -33112.2751   -2295.6966  True \n",
      "        Music                 Sports        -14128.2838 -17060.2473  -11196.3203  True \n",
      "        Music            Travel & Events    -17105.2649 -23059.4735  -11151.0562  True \n",
      "   News & Politics    Nonprofits & Activism  88210.0206  72127.1242   104292.917  True \n",
      "   News & Politics        People & Blogs     5267.2992   2112.8745     8421.724   True \n",
      "   News & Politics        Pets & Animals      485.1604   -4010.6321    4980.953  False \n",
      "   News & Politics     Science & Technology   2414.771   -939.2777    5768.8198  False \n",
      "   News & Politics            Shows          -750.7884  -16271.7021   14770.1253 False \n",
      "   News & Politics            Sports         2824.9137    -650.686    6300.5133  False \n",
      "   News & Politics       Travel & Events     -152.0674   -6391.9378    6087.803  False \n",
      "Nonprofits & Activism     People & Blogs    -82942.7214 -98988.7026  -66896.7402  True \n",
      "Nonprofits & Activism     Pets & Animals    -87724.8602 -104087.4782 -71362.2422  True \n",
      "Nonprofits & Activism  Science & Technology -85795.2496 -101881.665  -69708.8342  True \n",
      "Nonprofits & Activism         Shows          -88960.809 -111061.0778 -66860.5402  True \n",
      "Nonprofits & Activism         Sports        -85385.1069 -101497.3045 -69272.9094  True \n",
      "Nonprofits & Activism    Travel & Events     -88362.088 -105287.1907 -71436.9853  True \n",
      "    People & Blogs        Pets & Animals     -4782.1388  -9144.0314   -420.2462   True \n",
      "    People & Blogs     Science & Technology  -2852.5282  -6024.8459    319.7895  False \n",
      "    People & Blogs            Shows          -6018.0876 -21500.7462    9464.571  False \n",
      "    People & Blogs            Sports         -2442.3856  -5742.9536    858.1825  False \n",
      "    People & Blogs       Travel & Events     -5419.3666 -11563.4646    724.7313  False \n",
      "    Pets & Animals     Science & Technology  1929.6106   -2578.7544   6437.9755  False \n",
      "    Pets & Animals            Shows          -1235.9488 -17046.5299   14574.6322 False \n",
      "    Pets & Animals            Sports         2339.7532   -2259.7581   6939.2646  False \n",
      "    Pets & Animals       Travel & Events     -637.2278   -7566.275    6291.8193  False \n",
      " Science & Technology         Shows          -3165.5594 -18690.1195   12359.0007 False \n",
      " Science & Technology         Sports          410.1427   -3081.7045   3901.9898  False \n",
      " Science & Technology    Travel & Events     -2566.8384  -8815.7733   3682.0965  False \n",
      "        Shows                 Sports         3575.7021  -11975.5717   19126.9758 False \n",
      "        Shows            Travel & Events      598.721   -15793.2986   16990.7406 False \n",
      "        Sports           Travel & Events     -2976.9811  -9291.9899   3338.0278  False \n",
      "---------------------------------------------------------------------------------------\n"
     ]
    }
   ],
   "source": [
    "print(pairwise_tukeyhsd(df['comment_count'], df['title']))"
   ]
  },
  {
   "cell_type": "markdown",
   "metadata": {},
   "source": [
    "## Checking the correlation of the numerical features with each other:"
   ]
  },
  {
   "cell_type": "code",
   "execution_count": 14,
   "metadata": {},
   "outputs": [
    {
     "data": {
      "text/plain": [
       "<matplotlib.axes._subplots.AxesSubplot at 0x13d5eae4898>"
      ]
     },
     "execution_count": 14,
     "metadata": {},
     "output_type": "execute_result"
    },
    {
     "data": {
      "image/png": "[encoded data removed]",
      "text/plain": [
       "<matplotlib.figure.Figure at 0x13d5e3f3828>"
      ]
     },
     "metadata": {},
     "output_type": "display_data"
    }
   ],
   "source": [
    "import seaborn as sns\n",
    "\n",
    "columns_show=['views', 'likes', 'dislikes', 'comment_count']\n",
    "f, ax = plt.subplots(figsize=(8, 8))\n",
    "corr = df[columns_show].corr()\n",
    "sns.heatmap(corr, mask=np.zeros_like(corr, dtype=np.bool), cmap=sns.diverging_palette(220, 10, as_cmap=True),\n",
    "            square=True, ax=ax,annot=True)"
   ]
  },
  {
   "cell_type": "markdown",
   "metadata": {},
   "source": [
    "##### The Numerical Features such as Views, Comment Count, Likes and Dislikes are highly correlated. Hence in my opinion I shall use only one Numerical Variable in our Training Data."
   ]
  },
  {
   "cell_type": "code",
   "execution_count": null,
   "metadata": {},
   "outputs": [],
   "source": []
  }
 ],
 "metadata": {
  "kernelspec": {
   "display_name": "Python 3",
   "language": "python",
   "name": "python3"
  },
  "language_info": {
   "codemirror_mode": {
    "name": "ipython",
    "version": 3
   },
   "file_extension": ".py",
   "mimetype": "text/x-python",
   "name": "python",
   "nbconvert_exporter": "python",
   "pygments_lexer": "ipython3",
   "version": "3.6.4"
  }
 },
 "nbformat": 4,
 "nbformat_minor": 2
}
